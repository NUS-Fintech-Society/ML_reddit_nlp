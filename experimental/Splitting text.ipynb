{
 "cells": [
  {
   "cell_type": "code",
   "execution_count": 339,
   "metadata": {},
   "outputs": [
    {
     "name": "stdout",
     "output_type": "stream",
     "text": [
      "Packages installed successfully\n"
     ]
    }
   ],
   "source": [
    "import spacy \n",
    "import json \n",
    "import os\n",
    "import pandas as pd\n",
    "import sparknlp\n",
    "from pyspark.ml import Pipeline\n",
    "\n",
    "from sparknlp.base import *\n",
    "from sparknlp.annotator import *\n",
    "from pyspark.sql import SparkSession\n",
    "\n",
    "from sklearn.preprocessing import LabelEncoder\n",
    "from sklearn.metrics import accuracy_score\n",
    "from sklearn.model_selection import train_test_split\n",
    "\n",
    "from tqdm import tqdm\n",
    "import random \n",
    "from spacy.util import minibatch, compounding\n",
    "from spacy.training import Example\n",
    "from spacy.tokens import DocBin\n",
    "\n",
    "print('Packages installed successfully')"
   ]
  },
  {
   "cell_type": "markdown",
   "metadata": {},
   "source": [
    "## Opening text data"
   ]
  },
  {
   "cell_type": "code",
   "execution_count": 4,
   "metadata": {},
   "outputs": [],
   "source": [
    "os.chdir(r'C:\\Users\\sivas\\ML_reddit_nlp\\data_cleaned')"
   ]
  },
  {
   "cell_type": "code",
   "execution_count": 7,
   "metadata": {},
   "outputs": [
    {
     "data": {
      "text/plain": [
       "'US'"
      ]
     },
     "execution_count": 7,
     "metadata": {},
     "output_type": "execute_result"
    }
   ],
   "source": [
    "f = open('text_data.txt', 'r')\n",
    "text = f.read()\n",
    "text[0:2]"
   ]
  },
  {
   "cell_type": "code",
   "execution_count": 17,
   "metadata": {},
   "outputs": [],
   "source": [
    "json_file_path = \"training_data (2).json\"\n",
    "\n",
    "with open(json_file_path, 'r') as j:\n",
    "     TRAINING_DATA = json.loads(j.read())"
   ]
  },
  {
   "cell_type": "code",
   "execution_count": 18,
   "metadata": {},
   "outputs": [
    {
     "data": {
      "text/plain": [
       "{'classes': ['DERIVATIVE',\n",
       "  'POSITION',\n",
       "  'TREND',\n",
       "  'INDEX',\n",
       "  'STOCK',\n",
       "  'CEO',\n",
       "  'REGION',\n",
       "  'ORGANISATION '],\n",
       " 'annotations': [['US Futures pointing lower...PANIC!!! Well shucks, I put a lot of longs of yesterday. RIP monie.China getting a bit rekt too at the open.US futures pointing down over 1.3%, and China, about 2 %.',\n",
       "   {'entities': [[3, 10, 'DERIVATIVE'],\n",
       "     [65, 70, 'POSITION'],\n",
       "     [139, 146, 'DERIVATIVE'],\n",
       "     [156, 160, 'TREND']]}],\n",
       "  [\"Indisputable proof that the shemitah is upon us.A while back, I read this [interesting piece] (by a guy who has a simple method for timing the market. The method is this: when the S & P 500 closes below its 300-day moving average, you sell. When it closes above its 300-day moving average, you buy. The article linked above shows some pretty impressive returns if you followed his method.But, the graphs in his article end in 2012.So, I created this graph of S & P500 closing price vs its 300-day moving average, to the present. right. It has closed STRONGLY below its 300 day moving average. Sell everything, boys. I'm honestly expecting a 40% crash from here, as we find out in the coming months the full extent of China's deflationary depression, and the havoc it will wreak on US companies' earnings.\",\n",
       "   {'entities': [[182, 189, 'INDEX'],\n",
       "     [560, 565, 'TREND'],\n",
       "     [648, 653, 'TREND']]}],\n",
       "  ['Dear mods, FS Comeau here with a message for you ...', {'entities': []}],\n",
       "  [\"World markets sell off after China PMI and comments from IMFInteresting stuff. I've heard people say that the 2nd half of last week was a bull trap. They might be right.\",\n",
       "   {'entities': [[35, 38, 'INDEX'], [138, 142, 'TREND']]}],\n",
       "  [\"Q: VXX / XIV, what's the big deal? A: it's the +100% /year, once/twice in a decade yolo opportunity.If you wondered what the big deal is with everyone watching VIX / VXX / XIV, this is why. Since 2008 / 2011, the VIX futures haven't been up this much.XIV has dropped by over 50% now, and historically, it has always recovered within a few months if the crisis is lame, and even if not, it takes only 1y for 2011 , 2y for 2008 to get back to the previous peak. Expected return: +100% in 3 months to a year: - I'm guessing 6ish month now.Scenarios: * If this is a repeat of 2011 and the VIX stays high for 6 months, expect XIV to drop another 50% before it bottoms. From the bottom up, the previous level at +300% is reached in 12 months.* If this isn't, the bounce back can happen in 3-6 months to +100% .* If this is 2008 #2 instead, well, it takes 2 years, and another -75% on XIV.* If this is something completely different and the market is fucked for good - say goodbye to your money. Backwardation for years means VXX and XIV swap places - see what 5 years of contango did to VXX: - 1100 to 26 in 5 years, -53% per year annualized.Warning: don't short VXX unless you can take a margin hit of $wtf. VXX was at 15, is now at 30, and at 2011 level, it will be at 60 and 2008 = 120. A 100 share short can grow from $1500 in value to $12000. XIV, the inverse, will lose 50% /75% of its value, but at least you don't get margin called.Disclosure: I'm short VIX via XIV, holding until it recovers to 45ish, and have open orders to open more if it drops :\",\n",
       "   {'entities': [[3, 6, 'STOCK'],\n",
       "     [9, 12, 'STOCK'],\n",
       "     [159, 162, 'STOCK'],\n",
       "     [165, 168, 'STOCK'],\n",
       "     [171, 174, 'STOCK'],\n",
       "     [216, 223, 'DERIVATIVE'],\n",
       "     [245, 253, 'STOCK'],\n",
       "     [258, 265, 'TREND'],\n",
       "     [1542, 1547, 'TREND']]}],\n",
       "  ['GE announces over $1 billion in orders from Asia Pacific customersI think General Electric can be bought for more than one reason: bargain hunting and inexpensive stock. The valuation point is also in the favor of the company only. Even if some worst things happen, the stock could be a safe bet for just income alone because dividend could rise as part of its capital return program. Therefore, it is worth buying now. Especially after this news.Any thoughts?',\n",
       "   {'entities': [[44, 56, 'REGION'], [341, 345, 'TREND']]}],\n",
       "  ['Results from the Pretzels SurveyThis is the results from the survey I posted about a week ago regarding the number of pretzels in a jar. Here is one of the threads I posted - and it lead you to this link for the poll - Here is how the survey worked if you didn\\'t participate or forgot already. First page showed you pictures of a jar of pretzels (and let you guess how many were in there and tell me how you made your guess (wild, light calculation, or more calculation). The next page asked you to give some detail about your guess (textbox) and then I presented people with the opportunity to guess again after being given additional information in the form of the THREE MOST RECENT GUESSES. Yes, I actually queried the database.**THERE WAS A TRICK, kinda.** I purposefully grabbed the three most recent guesses that were either ABOVE or BELOW your first guess. 50% of the time someone would get the impression that they are guessing higher than others, and 50% of the time they would get the impression they are guessing too low compared to others. The purpose of this was to try to introduce some bias to the guesses. What happens when you\\'re provided perfectly reasonable information but with a bias swung on it? Will you follow the false \" herd \"? **The Story - Why did I post this survey? What does it have to do with anything? **This idea is \" stolen \" from a book called **The Wisdom of Crowds**: **It essentially addresses a concept that explains some of economics, psychology and how markets work (in a sense) **. It says that despite many people in the \" crowd \" being essentially morons and only having a few real experts this \" crowd \" will be surpringly accurate. However this accuracy relies on a few factors - diversity and independence in the crowd, no centralization (local knowledge only) and the ability to aggregate the crowds thoughts into a collective decision (average!). Only when these are broken through issues (like no diversity of opinions, or beaucracy, or emotion, or influence) does this wisdom fall apart. I got the idea from Planet Moneys podcast Episode 644: How much does a cow weigh (Surprisingly despite only having a picture of a cow the \" crowd \" was able to, within a few percent, guess the cows weight. This is despite the 17,000+ people responding being probably a bunch of armchair warriors. As well, they noticed how some \" groupthink \" resulted in worse guesses, and expertise gained no accuracy. So, this experiment set out to test this \" Wisdom of the Reddit crowd \" . **The hypothesis was simple then** - I thought that people would be surprisingly accurate in their guess aka. the crowd would be wise. I also hoped that people who did a calculation would be surprisingly not that much wiser. I also hoped that if people were influenced by the new information that they would actually be worse off. I am only concerned about averages and perhaps standard deviation. I am trying to see what the \" crowd \" thinks, not individuals. **This hypothesis would manifest itself as**: *1) Wild guessers and calculated guessers would have very similar averages (The uninformed crowd is just as wise as the informed) **2) The population average would be \" close \" to the correct number (The crowd is wise) **3) The crowd of people whose answer was \" influenced \" are become worse off on average (The wise crowd should not influenced by each other) ***Tidbits of Info: **There were **a total of 1,095 entries**. You will notice gaps in the ID\\'s due to the database being trimmed for duplicates (I did a simple scan to deny duplicates based on IP and user-agent combinations), trolls, \" mistakes \" (if someone hit the back button they got \" two \" entries but then the second one got deleted) and \" fakes \" (didn\\'t bother to fill anything out or my testing). I deleted any guess below 50 or above 1000. There were very few anyway - many were null or like troll over 1 million) **708 of them were \" light calculations \" , 377 were wild guesses and only 10 people had the guts to say they did more than a light calculation** (Yes, this adds to 1,095). This kind of implies that our crowd tried to be overall informed rather than morons - since I consider anyone who tried to calculate it to be part of our \" experts \" in the crowd.**The average guess was 166, with people who did a light calc at 169, heavy calc at 204, and wild guess 160**. The **standard deviation was a whopping 115**. The ability to change your guesses later (Guess #2 column statistics vs. Guess #1 statistics) did not result in very different numbers, although this would be expected since there was equal bias in either direction (50/50 shot of the code trying to bias you down vs. up) **The actual number of pretzels was....227**. Counted by hand. I did not eat them all - I was drunk with my friends we collectively we did eat them all. **Some initial observations: **1) **The general population was not as wise as expected** and actually the people who did a lot of work (heavy calculations) did decently better. However, if you filter the database for the people who did more of a calculation and look at their calculations they actually seem more like \" light \" calculations. I was expecting the heavy calculation crowd to be throwing down packing factors and bringing in outside data about the size of the bottle/pretzels/bottle/etc. It appears that all people with \" more calc \" should actually be grouped in with the \" light calc \" crowd as their calculations seem to be on par with what people were doing in the lightcalc crowd. **For that reason I am not going to conclude that the heavy calculation population did better**. **The fact that the general population was not very wise is a bit disappointing. *Thoughts? ***2) **Now, what if I do try to figure out who did the \" heaviest \" calculations? ** I figured anyone trying to factor in \" packing efficiency \" was trying to make a very well educated guess. So I searched for the word \" packing \" or \" efficiency \" and I\\'ve recorded these peoples results. 72 (stuck with 72), 102 (from a materials science major who then changed their guess to 160 after being \" biased \" upwards), 400 (who then adjusted to 420). **Oh no, you are all are not very good at all**. However, the data here is not statistically significant since I barely got any results where packing factors were included. 3) **What if I increase my scope to include anyone who did a calculation involving Pi or Layering** (figuring out how much to a layer and guessing the number of \" layers \")? The average for these people is 176 for 156 guesses. Not really statistically different - 7 closer to that key \" correct \" number. Looks like doing a calculation doesn\\'t help. 4) **It almost seems like it doesn\\'t matter what you did to guess** - at most the calculation crowd was 10-15 better than the wild guess crowd, but the average guess overall was 60 off! Just as relevant, the standard deviation actually INCREASED for people who did a calculation (lightcalc at 171, vs. wild guessers at 159). Can someone conclude for me, who is more versed in statistics, if I have any significance to my result? To me it seems to suggest that I was right that wild guessers and calculated guessers are basically on equal footing.5) What about the bias introduced? **It seems that this bias did not affect the general population very much** but mostly because I was unable to influence a vast majority of the population (only 240 or ~1/5 of you changed your guess). So, this is a bit hard to do. First, I need to split the people into two groups - those who were presented larger numbers and those who were presented smaller numbers. A pivottable was created sorted by those influenced lower and those influenced higher, filtered by all the people who actually changed their guess. What happens to these people? Now, one thing to note is that there is an iteration of this poll script where people entered results that were NOT biased. The last three were actually the last three from the database, not biased down or up. These ones in the pivottable would show up as \" False-False \" as they would not be particularly influenced up or down. Big surprise, most people who saw this version of the script didn\\'t bother changing their answer....so I will skip analyzing these. First bit of analysis? How many people changed their minds between the wild guessers and the calculators? Since there are different numbers of each group I did a percentage. It seems that if you were \" influenced down \" there was no difference (0.90% difference) and on the other side the \" lightcalc \" guessers were actually 3.7% more likely to change their guess, which also seems like an insignificant difference. **The population was equally as easily influenced when presented with what they thought was valid information about others - despite the people with calculations doing more work to get their number.**Predictably the people who were pushed downwards ended up moving their guesses downwards, and those who were pushed upwards ended up moving their guesses upwards. It seems that overall it evened out, with people generally changing their guess by 30 (average absolute value). As well, it seems that that people who did a calculation (23 down , 32 up avg) moved their guess slightly less than the wild guess group (43 down , 33 up).**Overall the average second guess of the population of people who actually changed their guess was...185.** This actually makes them the most accurate population of people. What! No! This is not what I expected! So first thing to check - what is the average first guess for all of this population of \" changers \" - it is actually 181. This means the ability to sometimes influence overall didn\\'t do much at all? I\\'m struggling to play with this data here. Does anyone have anything to add? Download the spreadsheet and play with this data. Is there anything to take away from this? At the end there is only one thing for me to address. Who was closest? I am using Guess #2, of course. Sadly, nobody guessed 227. I think DeezNuts at 228 was a troll. At 226 /u/HalfLife1MasterRace was closest, and he did not waver on his Guess #1. Users /u/sjagr, /u/Boosh_The_Almighty, /u/hughgent and /u/financeterp guessed 230 (with /u/financeterp moving his guess 10 down from 240 due to some \" influence \").**Thank you to those who answered. This was fun.****Link to the results + analysis worksheet: ** (Please consider the health of my server )',\n",
       "   {'entities': []}],\n",
       "  ['Daily advice thread. All questions about your personal situation should be asked hereIf your question is \" I have $10,000, what do I do? \" or anything similar. There is no single answer to this question, but we will also need A LOT MORE information if we are to give some sort of answer* How old are you? * Are you employed/making income? How much? * What are your objectives with this money? (buy a house? Retirement savings?) * What is your risk tolerance? (Do you mind risking it at blackjack or do you need to know its 100% safe?) * What are you current holdings? (Do you already have exposure to specific funds and sectors?) * Any other assets? House paid off? Cars? Expensive girlfriend? (not really an asset) * What is your time horizon? Do you need this money next month? Next 20yrs? * Any big debts? * Any other relevant financial information will be useful to give you a proper answer.Be aware that these answers are just opinions of Redditors and should be used as a starting point for your research. You should strongly consider seeing a registered financial rep before making any financial decisions!',\n",
       "   {'entities': []}],\n",
       "  [\"What's going on with BGMD? Aren't they well past the deadline for NASDAQ compliance? I had heard that a compliance notice for BGMD was due no later than Friday. After hearing nothing on Friday, I assumed that they were to be delisted and dumped my shares.While, I am glad I got out before the prices dipped further, when I went back to check on it I noticed that it's still listed on the NASDAQ. Why haven't they been delisted yet?\",\n",
       "   {'entities': [[21, 25, 'STOCK'],\n",
       "     [66, 72, 'INDEX'],\n",
       "     [125, 129, 'STOCK'],\n",
       "     [299, 305, 'TREND'],\n",
       "     [387, 394, 'INDEX']]}],\n",
       "  ['$ OPKHas been going down a bit lately. Is this a buying opportunity or is it going to go down further? I know there is an FDA decision coming up soon, but how confident are we that it will be approved?',\n",
       "   {'entities': [[1, 7, 'STOCK'], [121, 124, 'ORGANISATION ']]}],\n",
       "  ['Yes, you can time the market.A while back, I read this [interesting piece] (by a guy who has a simple method for timing the market. The method is this: when the S & P 500 closes below its 300-day moving average, you sell. When it closes above its 300-day moving average, you buy. The article linked above shows some pretty impressive returns if you followed his method.But, the graphs in his article end in 2012.So, I created this graph of S & P500 closing price vs its 300-day moving average, from 1997 to Aug 31 , 2015. [right. It has closed STRONGLY below its 300 day moving average.I\\'m honestly expecting a crash from here, as we find out in the coming months the full extent of China\\'s deflationary depression, and the havoc it will wreak on US companies\\' earnings.Also, to those who will comment, \" it has crossed below the average in the past and didn\\'t crash \" - you\\'re correct. So you\\'d sell when it crossed below, and quickly buy again when it crossed above. So you wouldn\\'t miss out on any upside action.The goal here is to be in cash when the market crashes. And as I\\'ve been saying for months now - the market is expensive, and this is yet another sign that a downturn might be coming.**EDIT**: I\\'m shorting the market with deep out of the money puts, so I make money when the market goes down. I\\'m also long the market with deep out of the money calls, in case everything I wrote above is wrong.',\n",
       "   {'entities': [[161, 168, 'INDEX'],\n",
       "     [438, 444, 'INDEX'],\n",
       "     [1209, 1217, 'POSITION']]}],\n",
       "  [\"Doubled down on my TQQQ (triple bull QQQ) today and my YINN (triple bull China) It may not be wise, but it is what I'm doing!\",\n",
       "   {'entities': [[19, 23, 'STOCK'], [55, 59, 'STOCK']]}],\n",
       "  [\"I done messed up.I had a rookie mistake today. Tried to day trade on unsettled funds...learned about Regulation T today too...Sold stocks yesterday to get some cash to try for a day trade today. Little did I know that those proceeds need to sit for 3 days and clear. What I find the cruel twist is is that I can buy stocks with these proceeds, yet I cannot sell that stock until the funds clear. I got 100 shares of Trevena this morning, it was popping, I had smiles all around til the trade was halted by Trade King. I called them and they explained I could make the trade but I would violate Reg. T and have my account frozen for 90 days. I would have made a couple hundred bucks today, but instead I'm stuck with a stock that will probably contract after a huge pop. SHIT! Edit: Lots of great information being learned in this thread, thanks! to all who are providing technical advice out of the kindness of their hearts, I just applied to have a margin account instead of a cash account through TK. One more day before funds are settled and the stock is still up, so here's to hoping I don't pay to much for this mistake. Edit 2.0- Made the call yesterday and sold off at $10.20, haven't heard anything about getting a violation yet. Made a cool $140...could have made 30% but 15% will do just fine. Margin account has been finalized. Thanks again for the knowledge!\",\n",
       "   {'entities': [[416, 423, 'STOCK']]}],\n",
       "  [\"OSK is not feeding my YOLO BONRAfter close yesterday, OSK announced buyback authorization for 10 million shares. Today? It's down/flat. Looks like I'll be holding a while.\",\n",
       "   {'entities': [[0, 3, 'STOCK']]}],\n",
       "  [\"Some quick DD on Tokai Pharmaceuticals (TKAI). Low floater, good tute ownership, possibly undervalued prostate cancer yoloI stumbled upon these guys about a week ago while doing some canoodling around for another biotech play.**Tokai Pharmaceuticals (TKAI) ** $12.07 $266 MM market cap $100 MM cash on hand22.5 MM shares outstanding3.3 MM float20.5% insider ownership & 28.7% tute ownershipHedgefunds that own TKAI. Mark Kingdon of Kingdon Capital Management leads the way with 741k shares. down 20% for the year. There was some unusual volume movement today as someone picked up 171k shares at $11.83. One to keep your eye on.---They are currently underway through phase 3 trials for a prostate drug. Read this here for the science and market potential: Management has announced that they will begin the ARMOR3-SV Phase 3 clinical trial in the second half of this year. The structure of the trial has been finalized and the FDA and EMA have both signed off on the design. The trial will enroll 148 patients with progressive metastatic CRPC with detectable AR-V7 expression. Patients will be randomized to treatment with either Galeterone or Xtandi. The primary endpoint is radiographic PFS (rPFS) with secondary endpoints of PSA response, OS, time to chemotherapy, and safety.> **Itï¿½s hard to find a Phase 3 clinical trial as de-risked as the one set-up by Tokai management. In my opinion, the chance of success here is nearly 100% .** Galeterone has been shown to be just as effective in patients with AR-V7 than without due to its numerous mechanisms of action while Xtandi is known to be ineffective in patients with AR-V7. The Johns Hopkins study showed that patients with AR-V7 expression had no PSA50 response, only 1.4 months of PSA progression free survival and 2.1 months of rPFS. In the Phase 2 Galeterone clinical trial 86% of patients with AR-V7 achieved PSA50 response translating to a 7.3 month PSA PFS.---Some more articles: gave Takai an Outperform rating and a $44 price target. Xu acknowledged that ï¿½the development of a companion diagnostic to identify AR-V7 expression for the study enrollment, as well as FDA approval for this diagnostic, is a prerequisite to beginning this Phase III trial.ï¿½ Thus, ï¿½finalizing and validating the assay is the next major milestone to be achieved in the development program, ï¿½ in her opinion. This is the first time Xu has given a recommendation for Tokai.---Oppenheimer gives $38 PT: flagship compound galeterone initially addresses a clear unmet medical need in prostate cancer, i.e. castration-resistant prostate cancer (CRPR) patients with tumor-expressing androgen receptor (AR) split variants (AR-V7) for whom recently approved novel agents such as Zytiga and Xtandi are not expected to be effective. **We view Tokai shares as having significant upside potential (phase 3 start in the first half of 2015, pivotal data in the second half of 2015), given a clear/favorable regulatory pathway, a high probability of phase 3 success, sizeable market opportunity (addressing a key resistance mechanism to novel therapies) and no foreseeable competition.**---Article about main lady person and Phase 3 trial: not in this one yet but looks like it could be a nice risky play/potential long term hold. I'd like to get in within the next month or so. As always [god speed] (\",\n",
       "   {'entities': [[40, 44, 'STOCK'], [413, 425, 'CEO']]}],\n",
       "  [\"[ Week of 9/1/15] Condensed Thread of Earnings, Decisions, Reports, Analyses.Sometimes it's hard to sift through the dank memes and horseshit, so I'm featuring a few easy bets to make: Going to try and include a large cap earnings, small cap earnings, FDA decision, tradable economic report every week. Comment to request an add, delete, edit, etc. #Featured Events| Ticker | Type | Date | Consensus | Optionable | Description ||-------- -|---------------- -|----------|-----------|------------ |--------------------------------------------------------------------------------------|| COST | Earnings | 9/2/2015 | $1.66 | True | [Costco's Earnings, After Hours.] (|| SEAC | Earnings | 9/2/2015 | $-0.25 | Illiquid | [Random Small-Cap Earnings, After Hours] (|| SPY/VXX | Economic Report | 9/4/2015 | 5.2% | True | [Unemployment Report at 8:30 AM] (|| TSRO | PDUFA | 9/5/2015 |--| Illiquid | [New Drug Application for oral rolapitant under review by FDA w/ PDUFA goal date of 9/5/15.] (|| OPK | PDUFA | 9/5/2015 |--| Semi-liquid | [Licensee of oral rolapitant under review by FDA w/ PDUFA goal date of 9/5/15.] (| #Featured User Analysis| Ticker | Industry | Price | Target | Catalysts | TL; DR | User | Link ||------|------|-------|------|-|---- |---|--|| TKAI | Pharma | $12.09 | $30.00| Phase 3 |Undervalued |/u/bewbspl0x | [Some quick DD on Tokai....] (\",\n",
       "   {'entities': [[250, 253, 'ORGANISATION ']]}],\n",
       "  [\"Alright, let's do an analysis of this turd GBSN! Hey hey! First of all I wannasay I have basically zero interest in this company long term. I just think it provides a good example of how complicated the market can be and I want to try to put a value on it. My fundamental analysis is not the greatest as I'm 95% a technical trader, but I do know a bit...so let's see if we can get a discussion started. It should be educational for all. Ok so the initial thing that drew me to this stock is that the chart is just completely destroyed in the last couple weeks. Normally when I see a stock shed 80-90% of its value in just a couple weeks, it will snap back hard and provide a good quick trade especially if timed with a market or sector bounce (See CJES recently for what I mean). I was curious why GBSN dropped so much so I started reading and this 8K from this morning summarizes it nicely :...in the most recent [10-Q] (we have 7,289,688 shares outstanding. Add to that the 1,970,000 issued per this 8k after conversion of the Series E preferred stock, and 17,730,172 shares issued per the 8k after conversion of Series C warrants on a cashless basis, and you get the 26,998,860 shares listed as currently outstanding on the 8k. Now there are also still 2,181,250 shares of series E preferred stock out there, which according to the 8k can be converted to 4 shares each of common stock, so that's another 8,725,000 shares of common stock. There are also 18,643,040 series C warrants still outstanding, which are exerciseable either for cash at $2.55/share or cashless for common shares (at least that's how I am interpreting this, could be wrong). That said let's do some math: If the series E's are converted that would bring outstanding shares to 35,723,860. If the series C's were exercised completely in cash it would equate to $47,539,752 and if they were converted to common shares at the same ratio as what's in this 8k (approximately 6.41 shares per warrant), it would result in the issuance of 119,547,590 additional shares, bringing the total outstanding to 155,271,450 shares. At that dilution the stock right now would have a market cap of approximately 46.58m. On the surface, it looks like with only 7.2m shares outstanding per their most recent 10Q the stock is trading at only about 12-15% of its cash value. When you consider all the potential dilution, we have the potential for either a $47.5m cash outflow if all the series C warrants were exercised for cash, or a dilution of almost 150m shares. Now, this could all be totally wrong since like I said I'm not a fundamentals guy really and admittedly I have no idea how warrants even work, but does this sound right? If so, even at $0.30 the stock doesn't look very appealing since it has no earnings and only $15.27m in cash. Upon a 150m share dilution the stock would be worth $0.10 or so in cash only. If series C warrants were all exercised at $2.55 for cash, the company is basically bankrupt. So, what say ye? Discuss.\",\n",
       "   {'entities': [[43, 47, 'STOCK']]}],\n",
       "  [\"Considering IRAs are not taxable when selling stocks, isn't it more worth it to make risky/frequent investments in IRAs vs brokerage accounts? I have both IRA and brokerage accounts. My regular brokerage account is much larger than my IRA.I was wondering...if i'm going to be doing stuff like investing in individual stocks or making frequent buys/sells, isn't it more worth it to do it in the IRA account? That way, my brokerage acct can hold the investments that i keep for 1 year to take capital gains benefit.For instance, if I want to buy AAPL at a large dip to try to sell it shortly after in order to make a quick win...it would be better off if i did it in the IRA account to avoid taxable events.Am i wrong? Is this reasoning sound? The reason i'm thinking about it, is because i'm thinking of consolidating my retirement accounts into vanguard. But i'm considering that maybe I should move it to something like Scottrade so that I can do individual stock investments because of the reasoning above.\",\n",
       "   {'entities': [[546, 550, 'STOCK']]}],\n",
       "  [\"DWTI is now 100% of my portfolioLast December, I put about $10,000 from my Vanguard account into various long term stocks and ETFs. The market volatility hit, and I sold my shit about a week ago, because I wasn't feeling like taking a loss. (Already took a $400 loss on the NBG hype).I was sitting on just over 10K in my Vanguard money market account, and got a bit tired of watching it do nothing. Today, I decided to pull the trigger, and throw it all into DWTI So here I am , 89 shares deep, average price of $111.29. May the WSB gods be with me, and may price of oil keep dropping. Yay for Yoloes on Vanguard My net worth is about $15,000. yolo af\",\n",
       "   {'entities': [[0, 4, 'STOCK'], [126, 131, 'DERIVATIVE']]}],\n",
       "  ['touched for the very first timeSo I got drunk yesterday, sold everything I had and bought a shit ton of ProShares Short S & P500 (SH). Am I one of you now? edit: wtf the market was supposed to crash im losing money wtf wheres my yacht',\n",
       "   {'entities': [[120, 126, 'INDEX']]}],\n",
       "  ['Daily advice thread. All questions about your personal situation should be asked hereIf your question is \" I have $10,000, what do I do? \" or anything similar. There is no single answer to this question, but we will also need A LOT MORE information if we are to give some sort of answer* How old are you? * Are you employed/making income? How much? * What are your objectives with this money? (buy a house? Retirement savings?) * What is your risk tolerance? (Do you mind risking it at blackjack or do you need to know its 100% safe?) * What are you current holdings? (Do you already have exposure to specific funds and sectors?) * Any other assets? House paid off? Cars? Expensive girlfriend? (not really an asset) * What is your time horizon? Do you need this money next month? Next 20yrs? * Any big debts? * Any other relevant financial information will be useful to give you a proper answer.Be aware that these answers are just opinions of Redditors and should be used as a starting point for your research. You should strongly consider seeing a registered financial rep before making any financial decisions!',\n",
       "   {'entities': []}],\n",
       "  [\"New JBEM DD--$ GNSZ--~.80--OTC--moved up p2 results announce to sept 9 (ala $AVXL) I make no comment for or against this stock, I am merely passing along DD. I did take a stake in $GNSZ based on this email at .78Email from JBEM begins now :-------------------------------------------------------------------- READ THE DUE DILIGENCE FIRST. If you make an investing decision without first educating yourself you will be sorely disappointed. If you decide to take a position, be smart, donï¿½t go bonkers and drop your whole portfolio in it on a 50% spike. Thatï¿½s pure idiocy and can and will result in substantial losses. There are many things you canï¿½t predict or control for and as retail investors we can attempt to do thorough research and make educated decisions. Given the recent market volatility, I have been searching for potential investments that have imminent catalysts with defined dates to trade around. Once a defined catalyst date is found, and to further minimize risk, I then look for some indications that the data release will be positive. Often times, companies run open-label studies or incorporate an adaptive trial design that allows them to have some insight into the safety and efficacy of their trials. Previous data releases, statements made during presentations, comments found in conference call transcripts, or recent insider buying are all tools that I use to gain greater insight into the nature of a companyï¿½s data. I believe I have found a company that embodies some of these characteristics, which will be presenting data next week. Personal Trading Strategy: At the present time, I view this stock as short-term catalyst play, but will reassess my trading strategy once data is released. The company trades on the OTC and their current financial situation prevents me from considering this a long term play at the present time. There are a number of warrants that are close to being ï¿½in the moneyï¿½ which could generate substantial cash inflows for the company if the data presented is positive and other fundamental developments occur. Its situation is similar to that of AVXL and TPIV, in which the exercise of warrants created the funding to further fund clinical trials. It is severely under-valued by the market and if data is compelling, there exists the opportunity for substantial gains. Other companies, targeting similar indications, have market caps at 10x-15xï¿½s greater than this company. Given their status on the OTC, please be advised of the risks. Due to the impending catalyst and anticipated trading window, I will provide a shorter version of my due diligence. Glioblastoma: Here is a brief description of glioblastoma and the current standard of care. ï¿½According to the Cancer Research Institute, Glioblastomas are one of the most aggressive types of brain cancer, with most patients failing to reach the one year survival mark and few living to see three years following diagnosis. For newly diagnosed GBM patients treated under the current standard of care, median progression free survival is 6.9 months and median overall survival is 14.6 months. Only 25% of newly diagnosed patients survive for 24 months and less than 10% survive more than 5 years. With approximately 16,000 newly diagnosed patients and 10,000 deaths from the disease in the US alone, there is a dire need to improve the standard of care.ï¿½ ï¿½The current standard of care consists of Temodar as the chemotherapeutic agent in chemoradiative therapy as a first line treatment. Temodar received approval in 2005 for the treatment of newly diagnosed GBM on the basis that it improved overall survival by 2.5 months. In 2009, the FDA approved Avastin as a second line treatment for patients with disease progression following treatment with temodar. Avastin's approval was based off an improvement in progression free survival.ï¿½ With 16,000 newly diagnosed patients every year, the GBM market is measured in the billions. Link to Seeking Alpha article used as reference Company: GenSpera Ticker: GNSZ Company Presentation: The CEO will also be interviewed to day on RadioMD. A link to their website can be found here. Current Share Price: $.72 Outstanding Shares : 37.1 million Float : 26 million Market Cap: $25.3 million Ownership: Insiders and institutions own approximately 11,082,065 shares or 29.8% of the company. In the recent offering, Sabby Management purchased almost 3 million shares and warrants. If you would like to see a comprehensive list of who owns shares in the company, it can be found on their most recent registration statement. Catalyst: Interim Phase 2 Glioblastoma data and an update on ï¿½corporate partnership progressï¿½ will be presented at the Rodman & Renshaw Investors Conference on September 9th. The top-line data readout for the P2 trial is in Q1 2016. This data was initially scheduled to be presented at the Society for Neuro-Oncology meeting on November 19th 2015. However, the company recently decided to present the data months earlier at an investor conference as well as provide a ï¿½partnershipï¿½ update. This is an interesting change, but I believe that this change in data release and update may be a significant value driver for the company. The CEO has made clear that it intends to partner another one of its products for liver cancer by the end of the year and will likely provide some insight into this process on the 9th. Since this announcement, there has been a substantial increase in the trading volume.For those involved in AVXL from the beginning, you know that their data was initially scheduled to be released in September, but they moved the date up to July. We all know how that ended up and this appears to be a very similar situation with GenSpera. Financial Position: As of June 30 , 2015, Genspera had $121k in cash. However, in July 2015, the company issued a private placement of 3,591,278 shares of common stock, the majority of which were purchased by Sabby Management, which netted them an additional $2.2 million. Each unit of the offering consisted of one share of common stock at $.70, one warrant at $.70 that expires in 18 months, and one warrant at $.80 that expires in 5 years. The company burns roughly $1.3 million per quarter, and thus, per the companyï¿½s 10Q, they expect this cash to fund their operations for 3-6 months. Prior the offering at June 30 , 2015, the company had a total of 18,549,724 warrants outstanding with a weighted average exercise price of $1.51. When adding an additional 7 million warrants from this offering, the company is left with roughly 25 million warrants outstanding for an average exercise price of approximately $1.30 per share. Interestingly, in the most recent offering, only $2.2M in cash was raised, which is a paltry sum for a life sciences company. Possible explanations for the size of this offering could include : 1) They were unable find buyers for their shares , 2) They anticipate a partnership in the near-term with upfront cash to fund operations (more on that later), 3) They anticipate share price appreciation in the coming months that will allow the exercise of outstanding warrants, or 4) A combination of these factors. Company Background: Typically I would like to provide a summary of the company and what it has going on. However, the well renowned and respected Seeking Alpha & Zackï¿½s contributor Jason Napodano, CFA, recently completed a thorough, non-biased review of the company, clinical development, and market potential. I am not going to ï¿½re-invent the wheelï¿½ as he delivers a superior product and thus, I strongly suggest that his analysis be reviewed. I would like, however, to present some of the ï¿½tellsï¿½ that I have utilized when creating my thesis and investment decision. First, the company moved the interim glioblastoma data release to an investor conference from a scientific conference later in the year. Presenting data at these types of conferences is uncommon and thus the recent announcement piqued my interest. Why would a company move up a data release and want to present this data to a room full of investors? You donï¿½t fill a room full of investors and then present ï¿½badï¿½ data. Second, the CEO has been dropping hints of partnership for months. The phase 2 liver cancer trial completed earlier this year and the company has repeatedly stated that they will be continuing this program with a partner. Now, I take CEO statements of partnerships with a healthy dose of salt, but GenSperaï¿½s CEO has taken actions and made statements that suggest a partnership may be imminent. In July, the CEO made two posts on his companyï¿½s blog discussing their rationale for partnership as well as the companyï¿½s recent partnership activities. One quote of particular interest is as follows: ï¿½GenSpera has been actively engaged in this partnering process for over two years since the beginning of Phase II clinical trials in liver cancer. We started early because we knew that comfort in the validity of our science and clinical data would be generated as potential partners could see data develop and become familiar with our management team. It is personally gratifying to me to learn that there are well-respected companies in our industry who also see the commercial potential for mipsagargin, and are closely tracking our clinical trials.ï¿½ These posts can be found here: On August 12 , 2015, Craig Dionne, chief executive officer of GenSpera, Inc. (the ï¿½Companyï¿½) participated as a guest on Redditï¿½s ï¿½Ask Me Anything.ï¿½ A transcript of this can be found below, but I would like to highlight some of his comments. Q: ï¿½When are you planning to begin Phase 3 Liver Trials? ï¿½A: ï¿½We plan to begin the next liver study in late 2015 or early 2016 depending upon where we stand with a potential corporate partner at that time.ï¿½Q: ï¿½Can you explain how your brain cancer trials are progressing? ï¿½A: ï¿½ï¿½We saw such good data and we have announced the expanded enrollment and the second stage is underway.ï¿½ These statements, coupled with the change in data release date suggests that investors may hear significant information at the Rodman & Renshaw conference. I firmly believe the data presented will be positive and remain cautiously optimistic on the development of a partnership. Please keep in mind that biotech CEOï¿½s often talk a big story. Articles: Summary: The defined data release at the Rodman & Renshaw conference on September 9th provides an excellent opportunity for investors. The company has decided to move the data release forward two months and present the data at a conference of potential investors. I would hardly expect the company to do so if the data they have so far received is anything less than stellar. This suggests to me, that investors will likely receive a positive press release announcing the data on either September 9th or 10th. The company has also made it clear that they are currently seeking a partnership and have been in these discussion for two years. After reviewing SEC forms, corporate presentations, and earning reports, at no time has the CEO made reference to updating investors on ï¿½corporate partnership progress.ï¿½ This change could possibly indicate that some progress has been made and a partnership may be signed in the near future. Positive data alone could be a significant value driver and partnership could add additional further momentum to any share price movement. GenSpera has already presented positive results in liver cancer and it is very likely to present positive data for glioblastoma. Liver cancer and glioblastoma represent a market in excess of $2.5 billion, and with a paltry market cap of $25 million, the company remains grossly undervalued and unappreciated by the market. Final Thoughts: GenSpera provides an excellent trading opportunity in the coming days. Market volatility continues and the key to making money during these periods is to minimize risk and find opportunities with a high chance of success. With a defined catalyst date, investors and longer term shareholders have the potential to make nice returns, given that the data and information presented is positive. As I have detailed above, there are strong indicators that GenSpera will be presenting positive data as well as other fundamental developments. GenSpera does have its merits, but their current cash situation prevents me from generating a long-term thesis at this time, though this could change in the coming weeks. Interestingly, GenSpera is in a roughly similar situation to AVXL and TPIV prior to their substantial price appreciation. AVXL and TPIV both possessed adequate funds, but were hardly in a position to fund further clinical trials without the execution their warrants. However, much like GenSpera, they had a warrant structure that provided more funds with their share price appreciation. As evidenced in previous trades, buying well below the warrant execution price, in severely undervalued companies, with significant catalysts on deck, is a good bet for a profitable trade. If you would like to be added to my email distribution list, please send a membership request. The link can be found here. I have never been paid or compensated by anyone for any stock I have ever traded, discussed, or blogged. Anything stated otherwise is false. I am held accountable to this statement by the SEC as any stock promoters, writers, or bloggers who do not disclose payment are in violation of the law. None of the information shared is to be construed as financial or investment advice. This information is not to be construed as an offer to buy or sell any security mentioned. All statements written are believed to be accurate. I strongly encourage you to do your own due diligence and consult an investment professional before making any investment decision. Acting on what any one writer, including myself has imparted to you is foolish. There are a plethora of things which can occur in lieu of any forward-looking statement I have made. Any stock in which I complete due diligence is subject to all manner of influences, which can change its value in dramatic fashion upwards or downwards.\",\n",
       "   {'entities': [[16, 20, 'STOCK'],\n",
       "     [84, 88, 'STOCK'],\n",
       "     [188, 192, 'STOCK'],\n",
       "     [550, 556, 'TREND'],\n",
       "     [2119, 2123, 'STOCK'],\n",
       "     [3654, 3657, 'ORGANISATION '],\n",
       "     [4021, 4025, 'STOCK']]}],\n",
       "  [\"Twitter Plunges: Undervalued Or Reasonable? TWTR hasn't had a non-automatic insider trade for almost a month now. That's HIGHLY unusual for this stock.\",\n",
       "   {'entities': [[0, 7, 'ORGANISATION '],\n",
       "     [8, 15, 'TREND'],\n",
       "     [43, 47, 'STOCK']]}],\n",
       "  [\"FDA approves Rolapitant for OPK/TSROHasn't really hit the newswire yet, OPK was up 5% this morning and has come back a bit. I'll include a link to PR once it comes out. Thanks /u/zhaso\",\n",
       "   {'entities': [[0, 3, 'ORGANISATION '],\n",
       "     [72, 75, 'STOCK'],\n",
       "     [80, 82, 'TREND']]}],\n",
       "  ['[ EMERGENCY] PLEASE HELP MEI HAVE 10K TO THROW AWAY AND I LOVE GAMBLING WHAT IS THE MOST UPSIDE TRADE I CAN MAKE THAT YOU ARE TOO AFRAID TO MAKE I WILL PUT ALL 10K IN THE MOST UPVOTED SUGGESTION AND POST PICS OF BEFORE AND AFTERTL; DR: CAPS LOCKEDIT: IM UGLY 2: AS SOON AS FUNDS CLEAR I WILL TRADE HIGHEST VOTED POST AND MAKE ANOTHER THREAD ASKING HOW LONG I SHOULD HOLD IT FOR. MY ROBINHOOD ACCOUNT NOW BELONGS TO WSBEDIT 3: I FORGOT TO PUT 2 IN MY SECOND EDIT',\n",
       "   {'entities': []}],\n",
       "  [\"In for 10,000 shares of BGMD @ $0.67 thanks to this sub....YOLO my friends. I'll either be taking you all for a ride in my Lamborghini when this bitch hits $40 or...well or I lose $6k. It's a *tiny* part of my portfolio so I'm okay with the risk for the YOLO upside. What are your thoughts on the delay for compliance? You bitches that were in> $1.50 still hanging around? Edit: make that 15k shares. [come on gimee tha cashhshhshshshshhhh] (\",\n",
       "   {'entities': [[24, 28, 'STOCK']]}],\n",
       "  ['What do you guys think of VA? High EPS and low P/E ratio. Loving the earnings and revenue. I see lots of room to grow. What do you think?',\n",
       "   {'entities': []}],\n",
       "  ['Is there a list of news (with dates) that can significantly affect the market? So far example yesterday weak Chinese manufacturing data affected the market pretty drastically. I am sure that if we get news that USA unemployment shot up for the last quarter, and exports were significantly lower than expected, it will have a disastrous effect on the market. But I have no clue when such data is released, etc. Is there a list somewhere of such crucial data?',\n",
       "   {'entities': []}],\n",
       "  [\"$ GILD shares are cheapGilead (NASDAQ: [GILD] (ended [2014] (with an impressive increase in its top and bottom lines. Product sales doubled, compared to the prior fiscal year, and non-GAAP earnings per share more than quadrupled. Gilead's fiscal 2015 is carrying the same momentum. The second-quarter earnings report revealed that product sales have increased significantly from the prior-year period, aided by the performance of Gilead's Hepatitis C drug Harvoni. The successful quarter led Gilead to raise its guidance for the fiscal year of 2015.Any investor that is aware of Gilead knows that one of its most successful products is the company's hepatitis C treatment Harvoni; hepatitis C medicines from Gilead account for ~60% of its revenue. Though we think the convenience and efficacy of Harvoni is simply hard-to-beat as it relates to a hep-C cure, AbbVie (NYSE: [ABBV] (offers a substitute for Gilead's treatment in its Viekira Pak. Merck (NYSE: [MRK] (and others are also active in the hep-C arena. Still, in any case, the global hep-C market is large enough for a number of players, in our view, suggesting that even under a scenario of share loss, Gilead will still be in good shape.To the excitement of income investors, Gilead [announced] (its first-ever dividend as its fiscal 2014 ended. A $0.43 per share dividend and a $15 billion share buyback program were initiated. Growth potential in the capital returned to shareholders remains substantial, particularly in light of the company's cash-generating prowess. From our perspective, Gilead's claim on the global hep-C market is rock solid, contributes to its [Economic Castle] (rating of 'Very Attractive ,' and we think investors are getting its pipeline for free within the context of our valuation model. Let's take a closer look at Gilead's other investment considerations and derive a fair value estimate for shares.**Investment Highlights**ï¿½ Gilead's primary areas of focus include HIV/AIDS, hepatitis B and C, serious cardiovascular/metabolic and respiratory conditions. The firm's drug Sovaldi and its successor Harvoni, a once-daily oral treatment of HCV infection, are its primary product drivers and comprise a large portion of antiviral product sales. Complera/Eviplera and Stribild--single tablet regimens for HIV--are also experiencing nice sales expansion. Sovaldi, Complera/Eviplera and Stribild were launched in 2012/2013 , 2012/2013 and 2011, respectively, and Harvoni was approved in October 2014. Gilead's pipeline also offers tremendous opportunities.ï¿½ According to the World Health Organization , 130-150 million people globally have chronic hepatitis C infection, and a significant number of those who are chronically infected will develop liver cirrhosis or liver cancer, with as many as 350,000-500,000 people dying each year from hepatitis C-related liver diseases. The HCV market is vastly underserved, providing long-term opportunities for Gilead.ï¿½ Harvoni's efficacy, by combining the NS5A inhibitor ledipasvir with the nucleotide analog polymerase inhibitor sofosbuvir (Solvadi), is so impressive that it can achieve HCV cure rates in the range of 94% -99% . This efficacy will be difficult for any competing therapy to better.ï¿½ Though we think Gilead is operating in a rational oligopoly in the HCV market, revenue erosion is a key risk. JNJ's (NYSE: JNJ) Janssen's Olysio and AbbVie's Viekira Pak are two rivals in the HCV market, and Express Scripts (NASDAQ: ESRX) continues to pressure drug providers on price. This can't be ignored.ï¿½ Gilead has started paying a dividend, but that doesn't mean the company won't be active with respect to acquisitions in the future, and it certainly doesn't mean that it doesn't have future opportunities for investment within its pipeline. For a company that owns the cure for hep-C, we can only imagine what's next. We're excited just thinking about it.**Economic Profit Analysis**In our opinion, the best measure of a firm's ability to create value for shareholders is expressed by comparing its return on invested capital with its weighted average cost of capital. The gap or difference between ROIC and WACC is called the firm's economic profit spread. Gilead Sciences' 3-year historical return on invested capital (without goodwill) is 55.4%, which is above the estimate of its cost of capital of 10.4% . As such, we assign the firm a ValueCreationï¿½ rating of EXCELLENT.**Cash Flow Analysis**Free cash flow generation has been outstanding at Gilead Sciences in recent years. Firms that generate a free cash flow margin (free cash flow divided by total revenue) above 5% are usually considered cash cows. Gilead Sciences' free cash flow margin has averaged about 34.7% during the past 3 years. As such, we think the firm's cash flow generation is relatively STRONG.The free cash flow measure is derived by taking cash flow from operations less capital expenditures and differs from enterprise free cash flow (FCFF), which we use in deriving our fair value estimate for the company. At Gilead Sciences, cash flow from operations increased about 301% from levels registered two years ago, while capital expenditures expanded about 40% over the same time period.**Valuation Analysis**This is the culmination of our analysis. Below we outline our valuation assumptions and derive a fair value estimate for shares.Our discounted cash flow model indicates that Gilead Sciences' shares are worth between $129- $193 each. Shares are currently trading at ~ $102, well below the lower bound of our fair value range. This indicates that we feel there is significant upside potential associated with shares at this time.The margin of safety around our fair value estimate is driven by the firm's LOW ValueRiskï¿½ rating, which is derived from the historical volatility of key valuation drivers. The estimated fair value of $161 per share represents a price-to-earnings (P/E) ratio of about 21.9 times last year's earnings and an implied EV/EBITDA multiple of about 16.4 times last year's EBITDA.Our model reflects a compound annual revenue growth rate of 7.9% during the next five years, a pace that is lower than the firm's 3-year historical compound annual growth rate of 43.7% . Our model reflects a 5-year projected average operating margin of 73%, which is above Gilead Sciences' trailing 3-year average.Beyond year 5, we assume free cash flow will grow at an annual rate of 2.7% for the next 15 years and 3% in perpetuity. For Gilead Sciences, we use a 10.4% weighted average cost of capital to discount future free cash flows.**Margin of Safety Analysis**Our discounted cash flow process values each firm on the basis of the present value of all future free cash flows. Although we estimate the firm's fair value at about $161 per share, every company has a range of probable fair values that's created by the uncertainty of key valuation drivers (like future revenue or earnings, for example). After all, if the future was known with certainty, we wouldn't see much volatility in the markets as stocks would trade precisely at their known fair values.Our ValueRiskï¿½ rating sets the margin of safety or the fair value range we assign to each stock. We think the firm is attractive below $129 per share, but quite expensive above $193 per share. **Wrapping Things Up**We think Gilead Sciences is a fantastic company. It generates free cash flow at a tremendous rate, and has one of the most effective drugs with great potential in the huge HCV market. Rival drugs may pressure prices, and therefore impede the pace of long-term revenue expansion, however.Nevertheless, we think there is significant long-term opportunities present for Gilead, and on the basis of its significant undervaluation, we think investors are getting the company's pipeline and potential within its acquisition program for free. Even assuming modest long-term top-line growth, Gilead Sciences is undervalued. Though shares have had a mighty run in recent years, the company's technical indicators aren't terrible, and shares are trading at relatively low earnings multiples compared to its peers.Gilead Sciences currently registers a 9 on the [Valuentum Buying Index.] (article or report and any links within are for information purposes only and should not be considered a solicitation to buy or sell any security. Valuentum is not responsible for any errors or omissions or for results obtained from the use of this article and accepts no liability for how readers may choose to utilize the content. Assumptions, opinions, and estimates are based on our judgment as of the date of the article and are subject to change without notice. For more information about Valuentum and the products and services it offers, please contact us at info @ valuentum.com.*\",\n",
       "   {'entities': [[1, 5, 'STOCK'],\n",
       "     [30, 36, 'INDEX'],\n",
       "     [864, 868, 'INDEX'],\n",
       "     [870, 874, 'STOCK']]}],\n",
       "  [\"$ ATEC DD--.57--NASDAQ_**THIS DD IS BEING MARKED AS FAILED AND CLOSED**_In Q3 ATEC announced their earnings fell from the previous quarter. ATEC subsequently filed for confidentiality on two loans taken out on March 2014. Hiding loan details is a shady thing to do and increases the risk associated with this company over and above what I would consider acceptable even for a penny play. As such I am marking the play closed and failed, despite the fact that some people did make money on ATEC if they shorted the stock because of the NASDAQ listing._**THIS DD IS BEING MARKED AS FAILED AND CLOSED**_TL; DR: This is an oversold company that has probably hit bottom, but will drift until the next earnings report. By the 4th quarter the share price should recover back to its $1.40 range (a .90c gain) if the company's guidance holds true. This is a reasonable six month play.------------------------------------------------ -**Warning**: This company will be placed on the non-compliance list after September the 4th. You should not consider this stock until after this has been digested as it will further weigh the stock price and may provide a better buying opportunity.-**The company**: A biotech company focusing on spinal implants, Alphatec Holdings played comfortably in the $1.40 range until August 4th when it reported a loss of [4 cents a share (3.9 million) ] (The company attributed this to missing sales targets in the US and the strong dollar affecting international profits. The missed sales was attributed to training a new sales force to cover the 90% of surgeons that were not covered before. The company likened this to a tax that had to be paid, but really its more of an investment (Not as many people selling this quarter but 2-3 times more selling the next). In July the company received a FDA notice about quality control in one of its acquisitions and the issue should be resolved without incident. All weighed on the sell-off.-They are introducing two new products that should show up in revenues the next 2 quarters however in 2016 their products may be usurped by AMDA if AMDA's silicon intrude product is approved and proves superior. But that risk is at least a year away at this point and this DD considers only a 6 month play.-Outsourcing 100 employees so this cost is a drag on revenue until the end of the year although costs may go down to compensate for this one time expense.-8.9 unrestricted cash on hand. An additional 4.6 that's allocated to a settlement with OrthoTec. Has debt of 76 million and will have $3 million in interest as a drag until the end of the year. Added ~ $10 million in debt last quarter to pay for their rebuilding. -The company expects better revenue and profits in the second half of the year based on larger sales force becoming productive and their new Arsenal line revenue starting to show up in financials. Management strongly believes in the direction they are taking the company: * COO purchased 30,000 shares 8/24* General Councel 3,500 shares on 8/20* COO purchased 30,000 shares 8/20* A Director purchased 30,000 shares 8/14* CEO purchased 35,000 shares on 8/12* CFO purchased 13,000 shares on 8/11* President purchased 30,000 shares on 8/11Note these insider transactions do indicate the company is not in acquisition talks. There were similar purchases in may.-Float is 64m.Short Interest is 2.6m.**Catalysts**: * 3rd quarter ER: should show improving sales and declining losses (perhaps a small profit with the new product pipeline just ramping up) * 4th quarter ER: should show improving sales and a profit that could exceed guidance if the new pipeline proves lucrative) -This is an earnings bet. If the next quarter can show the company is back on track or at least close to getting back the share price should rebound into the dollar range. If their new product line is successful enough to impact q3 revenue the share price may fully recover in anticipation of even better q4 results. After q4 with declining offshoring expenses, a larger sales force and new products its possible this stock will begin trading back in the $2- $3 range.-**Risks**: * Low volume stock! Use limits to buy and sell, use stops only with limits or your market order may reach into the pennies to sell. Be aware that if things go wrong it may be difficult to extract yourself if you make a significant investment.* Because of the low volume this stock is subject to manipulation. Because of the larger float and lack of substantial drivers, it's not as attractive as a pump and dump but it may still happen.* NASDAQ non-compliance may drop the stock price into the .40s at least temporarily, or because it is so over-sold maybe not. The company will have two 180 day extensions to get the share price over $1.00 for ten days, a goal which they can easily meet without a reverse split.* May face competition on their product line from AMDA's silicon nitrade product if its approved by the FDA in the next 5 months. AMDA has already lined up OEM suppliers for its product and is already competing with ATEC overseas which may start impacting $ATEC's revenues and profits.* Because of the depressed price, expect resistance as the stock climbs as longs from the $1.40 level seek to escape with manageable losses. This thing probably won't skyrocket but it should climb.-**Resources**: * [Company Website] ([ Yahoo] ([ Latest Company Report] (and [Transcript] ([ Short Volume] ([ iHub] (is a fairly low risk six month hold with a return on investment of 100-200% (higher than 125% if their new products appear successful).-**Disclosure**: I do not have a stake in this company. This report was compiled because someone asked for it and DD is kinda a hobby.-As always--do your own DD. Just because an internet YOLO yahoo says a stock will probably go up doesn't mean it will, or that it will in the expected time-line. Invest only what you can afford to lose._**THIS DD IS BEING MARKED AS FAILED AND CLOSED**_\",\n",
       "   {'entities': [[1, 5, 'STOCK'],\n",
       "     [19, 32, 'INDEX'],\n",
       "     [1826, 1829, 'ORGANISATION '],\n",
       "     [2516, 2525, 'ORGANISATION ']]}],\n",
       "  ['$ UWTI & $UGAZ--Credit Suisse announces reverse spilt by Sept. 101-for-10 $UWTI 1-for-5 $UGAZ',\n",
       "   {'entities': [[1, 5, 'STOCK'],\n",
       "     [9, 13, 'STOCK'],\n",
       "     [17, 30, 'ORGANISATION ']]}],\n",
       "  ['UK Brokers 0% commissionHello i was just wondering if there any 0% commission brokers like \" Robinhood \" which are based in England.',\n",
       "   {'entities': []}],\n",
       "  [\"$ AVXL dipping! AVXL has been dropping from 1.30. It's at 1.15 right now. Good time to YOLO! Edit : 1.07...will it drop below $1 today? Edit 2: Looks like it's going to hold at 1.10+\",\n",
       "   {'entities': [[1, 5, 'STOCK'],\n",
       "     [6, 13, 'TREND'],\n",
       "     [14, 18, 'STOCK'],\n",
       "     [28, 36, 'TREND']]}],\n",
       "  ['', {'entities': []}],\n",
       "  ['', {'entities': []}]]}"
      ]
     },
     "execution_count": 18,
     "metadata": {},
     "output_type": "execute_result"
    }
   ],
   "source": [
    "# Displaying contents\n",
    "TRAINING_DATA"
   ]
  },
  {
   "cell_type": "code",
   "execution_count": 38,
   "metadata": {},
   "outputs": [
    {
     "name": "stdout",
     "output_type": "stream",
     "text": [
      "Daily advice thread. All questions about your personal situation should be asked hereIf your question is \" I have $10,000, what do I do? \" or anything similar. There is no single answer to this question, but we will also need A LOT MORE information if we are to give some sort of answer* How old are you? * Are you employed/making income? How much? * What are your objectives with this money? (buy a house? Retirement savings?) * What is your risk tolerance? (Do you mind risking it at blackjack or do you need to know its 100% safe?) * What are you current holdings? (Do you already have exposure to specific funds and sectors?) * Any other assets? House paid off? Cars? Expensive girlfriend? (not really an asset) * What is your time horizon? Do you need this money next month? Next 20yrs? * Any big debts? * Any other relevant financial information will be useful to give you a proper answer.Be aware that these answers are just opinions of Redditors and should be used as a starting point for your research. You should strongly consider seeing a registered financial rep before making any financial decisions! {'entities': []} \n",
      "\n",
      "In for 10,000 shares of BGMD @ $0.67 thanks to this sub....YOLO my friends. I'll either be taking you all for a ride in my Lamborghini when this bitch hits $40 or...well or I lose $6k. It's a *tiny* part of my portfolio so I'm okay with the risk for the YOLO upside. What are your thoughts on the delay for compliance? You bitches that were in> $1.50 still hanging around? Edit: make that 15k shares. [come on gimee tha cashhshhshshshshhhh] ( {'entities': [[24, 28, 'STOCK']]} \n",
      "\n",
      "What do you guys think of VA? High EPS and low P/E ratio. Loving the earnings and revenue. I see lots of room to grow. What do you think? {'entities': []} \n",
      "\n",
      " {'entities': []} \n",
      "\n",
      "Yes, you can time the market.A while back, I read this [interesting piece] (by a guy who has a simple method for timing the market. The method is this: when the S & P 500 closes below its 300-day moving average, you sell. When it closes above its 300-day moving average, you buy. The article linked above shows some pretty impressive returns if you followed his method.But, the graphs in his article end in 2012.So, I created this graph of S & P500 closing price vs its 300-day moving average, from 1997 to Aug 31 , 2015. [right. It has closed STRONGLY below its 300 day moving average.I'm honestly expecting a crash from here, as we find out in the coming months the full extent of China's deflationary depression, and the havoc it will wreak on US companies' earnings.Also, to those who will comment, \" it has crossed below the average in the past and didn't crash \" - you're correct. So you'd sell when it crossed below, and quickly buy again when it crossed above. So you wouldn't miss out on any upside action.The goal here is to be in cash when the market crashes. And as I've been saying for months now - the market is expensive, and this is yet another sign that a downturn might be coming.**EDIT**: I'm shorting the market with deep out of the money puts, so I make money when the market goes down. I'm also long the market with deep out of the money calls, in case everything I wrote above is wrong. {'entities': [[161, 168, 'INDEX'], [438, 444, 'INDEX'], [1209, 1217, 'POSITION']]} \n",
      "\n",
      "DWTI is now 100% of my portfolioLast December, I put about $10,000 from my Vanguard account into various long term stocks and ETFs. The market volatility hit, and I sold my shit about a week ago, because I wasn't feeling like taking a loss. (Already took a $400 loss on the NBG hype).I was sitting on just over 10K in my Vanguard money market account, and got a bit tired of watching it do nothing. Today, I decided to pull the trigger, and throw it all into DWTI So here I am , 89 shares deep, average price of $111.29. May the WSB gods be with me, and may price of oil keep dropping. Yay for Yoloes on Vanguard My net worth is about $15,000. yolo af {'entities': [[0, 4, 'STOCK'], [126, 131, 'DERIVATIVE']]} \n",
      "\n",
      "What's going on with BGMD? Aren't they well past the deadline for NASDAQ compliance? I had heard that a compliance notice for BGMD was due no later than Friday. After hearing nothing on Friday, I assumed that they were to be delisted and dumped my shares.While, I am glad I got out before the prices dipped further, when I went back to check on it I noticed that it's still listed on the NASDAQ. Why haven't they been delisted yet? {'entities': [[21, 25, 'STOCK'], [66, 72, 'INDEX'], [125, 129, 'STOCK'], [299, 305, 'TREND'], [387, 394, 'INDEX']]} \n",
      "\n",
      "World markets sell off after China PMI and comments from IMFInteresting stuff. I've heard people say that the 2nd half of last week was a bull trap. They might be right. {'entities': [[35, 38, 'INDEX'], [138, 142, 'TREND']]} \n",
      "\n",
      "Doubled down on my TQQQ (triple bull QQQ) today and my YINN (triple bull China) It may not be wise, but it is what I'm doing! {'entities': [[19, 23, 'STOCK'], [55, 59, 'STOCK']]} \n",
      "\n",
      "Results from the Pretzels SurveyThis is the results from the survey I posted about a week ago regarding the number of pretzels in a jar. Here is one of the threads I posted - and it lead you to this link for the poll - Here is how the survey worked if you didn't participate or forgot already. First page showed you pictures of a jar of pretzels (and let you guess how many were in there and tell me how you made your guess (wild, light calculation, or more calculation). The next page asked you to give some detail about your guess (textbox) and then I presented people with the opportunity to guess again after being given additional information in the form of the THREE MOST RECENT GUESSES. Yes, I actually queried the database.**THERE WAS A TRICK, kinda.** I purposefully grabbed the three most recent guesses that were either ABOVE or BELOW your first guess. 50% of the time someone would get the impression that they are guessing higher than others, and 50% of the time they would get the impression they are guessing too low compared to others. The purpose of this was to try to introduce some bias to the guesses. What happens when you're provided perfectly reasonable information but with a bias swung on it? Will you follow the false \" herd \"? **The Story - Why did I post this survey? What does it have to do with anything? **This idea is \" stolen \" from a book called **The Wisdom of Crowds**: **It essentially addresses a concept that explains some of economics, psychology and how markets work (in a sense) **. It says that despite many people in the \" crowd \" being essentially morons and only having a few real experts this \" crowd \" will be surpringly accurate. However this accuracy relies on a few factors - diversity and independence in the crowd, no centralization (local knowledge only) and the ability to aggregate the crowds thoughts into a collective decision (average!). Only when these are broken through issues (like no diversity of opinions, or beaucracy, or emotion, or influence) does this wisdom fall apart. I got the idea from Planet Moneys podcast Episode 644: How much does a cow weigh (Surprisingly despite only having a picture of a cow the \" crowd \" was able to, within a few percent, guess the cows weight. This is despite the 17,000+ people responding being probably a bunch of armchair warriors. As well, they noticed how some \" groupthink \" resulted in worse guesses, and expertise gained no accuracy. So, this experiment set out to test this \" Wisdom of the Reddit crowd \" . **The hypothesis was simple then** - I thought that people would be surprisingly accurate in their guess aka. the crowd would be wise. I also hoped that people who did a calculation would be surprisingly not that much wiser. I also hoped that if people were influenced by the new information that they would actually be worse off. I am only concerned about averages and perhaps standard deviation. I am trying to see what the \" crowd \" thinks, not individuals. **This hypothesis would manifest itself as**: *1) Wild guessers and calculated guessers would have very similar averages (The uninformed crowd is just as wise as the informed) **2) The population average would be \" close \" to the correct number (The crowd is wise) **3) The crowd of people whose answer was \" influenced \" are become worse off on average (The wise crowd should not influenced by each other) ***Tidbits of Info: **There were **a total of 1,095 entries**. You will notice gaps in the ID's due to the database being trimmed for duplicates (I did a simple scan to deny duplicates based on IP and user-agent combinations), trolls, \" mistakes \" (if someone hit the back button they got \" two \" entries but then the second one got deleted) and \" fakes \" (didn't bother to fill anything out or my testing). I deleted any guess below 50 or above 1000. There were very few anyway - many were null or like troll over 1 million) **708 of them were \" light calculations \" , 377 were wild guesses and only 10 people had the guts to say they did more than a light calculation** (Yes, this adds to 1,095). This kind of implies that our crowd tried to be overall informed rather than morons - since I consider anyone who tried to calculate it to be part of our \" experts \" in the crowd.**The average guess was 166, with people who did a light calc at 169, heavy calc at 204, and wild guess 160**. The **standard deviation was a whopping 115**. The ability to change your guesses later (Guess #2 column statistics vs. Guess #1 statistics) did not result in very different numbers, although this would be expected since there was equal bias in either direction (50/50 shot of the code trying to bias you down vs. up) **The actual number of pretzels was....227**. Counted by hand. I did not eat them all - I was drunk with my friends we collectively we did eat them all. **Some initial observations: **1) **The general population was not as wise as expected** and actually the people who did a lot of work (heavy calculations) did decently better. However, if you filter the database for the people who did more of a calculation and look at their calculations they actually seem more like \" light \" calculations. I was expecting the heavy calculation crowd to be throwing down packing factors and bringing in outside data about the size of the bottle/pretzels/bottle/etc. It appears that all people with \" more calc \" should actually be grouped in with the \" light calc \" crowd as their calculations seem to be on par with what people were doing in the lightcalc crowd. **For that reason I am not going to conclude that the heavy calculation population did better**. **The fact that the general population was not very wise is a bit disappointing. *Thoughts? ***2) **Now, what if I do try to figure out who did the \" heaviest \" calculations? ** I figured anyone trying to factor in \" packing efficiency \" was trying to make a very well educated guess. So I searched for the word \" packing \" or \" efficiency \" and I've recorded these peoples results. 72 (stuck with 72), 102 (from a materials science major who then changed their guess to 160 after being \" biased \" upwards), 400 (who then adjusted to 420). **Oh no, you are all are not very good at all**. However, the data here is not statistically significant since I barely got any results where packing factors were included. 3) **What if I increase my scope to include anyone who did a calculation involving Pi or Layering** (figuring out how much to a layer and guessing the number of \" layers \")? The average for these people is 176 for 156 guesses. Not really statistically different - 7 closer to that key \" correct \" number. Looks like doing a calculation doesn't help. 4) **It almost seems like it doesn't matter what you did to guess** - at most the calculation crowd was 10-15 better than the wild guess crowd, but the average guess overall was 60 off! Just as relevant, the standard deviation actually INCREASED for people who did a calculation (lightcalc at 171, vs. wild guessers at 159). Can someone conclude for me, who is more versed in statistics, if I have any significance to my result? To me it seems to suggest that I was right that wild guessers and calculated guessers are basically on equal footing.5) What about the bias introduced? **It seems that this bias did not affect the general population very much** but mostly because I was unable to influence a vast majority of the population (only 240 or ~1/5 of you changed your guess). So, this is a bit hard to do. First, I need to split the people into two groups - those who were presented larger numbers and those who were presented smaller numbers. A pivottable was created sorted by those influenced lower and those influenced higher, filtered by all the people who actually changed their guess. What happens to these people? Now, one thing to note is that there is an iteration of this poll script where people entered results that were NOT biased. The last three were actually the last three from the database, not biased down or up. These ones in the pivottable would show up as \" False-False \" as they would not be particularly influenced up or down. Big surprise, most people who saw this version of the script didn't bother changing their answer....so I will skip analyzing these. First bit of analysis? How many people changed their minds between the wild guessers and the calculators? Since there are different numbers of each group I did a percentage. It seems that if you were \" influenced down \" there was no difference (0.90% difference) and on the other side the \" lightcalc \" guessers were actually 3.7% more likely to change their guess, which also seems like an insignificant difference. **The population was equally as easily influenced when presented with what they thought was valid information about others - despite the people with calculations doing more work to get their number.**Predictably the people who were pushed downwards ended up moving their guesses downwards, and those who were pushed upwards ended up moving their guesses upwards. It seems that overall it evened out, with people generally changing their guess by 30 (average absolute value). As well, it seems that that people who did a calculation (23 down , 32 up avg) moved their guess slightly less than the wild guess group (43 down , 33 up).**Overall the average second guess of the population of people who actually changed their guess was...185.** This actually makes them the most accurate population of people. What! No! This is not what I expected! So first thing to check - what is the average first guess for all of this population of \" changers \" - it is actually 181. This means the ability to sometimes influence overall didn't do much at all? I'm struggling to play with this data here. Does anyone have anything to add? Download the spreadsheet and play with this data. Is there anything to take away from this? At the end there is only one thing for me to address. Who was closest? I am using Guess #2, of course. Sadly, nobody guessed 227. I think DeezNuts at 228 was a troll. At 226 /u/HalfLife1MasterRace was closest, and he did not waver on his Guess #1. Users /u/sjagr, /u/Boosh_The_Almighty, /u/hughgent and /u/financeterp guessed 230 (with /u/financeterp moving his guess 10 down from 240 due to some \" influence \").**Thank you to those who answered. This was fun.****Link to the results + analysis worksheet: ** (Please consider the health of my server ) {'entities': []} \n",
      "\n",
      "New JBEM DD--$ GNSZ--~.80--OTC--moved up p2 results announce to sept 9 (ala $AVXL) I make no comment for or against this stock, I am merely passing along DD. I did take a stake in $GNSZ based on this email at .78Email from JBEM begins now :-------------------------------------------------------------------- READ THE DUE DILIGENCE FIRST. If you make an investing decision without first educating yourself you will be sorely disappointed. If you decide to take a position, be smart, donï¿½t go bonkers and drop your whole portfolio in it on a 50% spike. Thatï¿½s pure idiocy and can and will result in substantial losses. There are many things you canï¿½t predict or control for and as retail investors we can attempt to do thorough research and make educated decisions. Given the recent market volatility, I have been searching for potential investments that have imminent catalysts with defined dates to trade around. Once a defined catalyst date is found, and to further minimize risk, I then look for some indications that the data release will be positive. Often times, companies run open-label studies or incorporate an adaptive trial design that allows them to have some insight into the safety and efficacy of their trials. Previous data releases, statements made during presentations, comments found in conference call transcripts, or recent insider buying are all tools that I use to gain greater insight into the nature of a companyï¿½s data. I believe I have found a company that embodies some of these characteristics, which will be presenting data next week. Personal Trading Strategy: At the present time, I view this stock as short-term catalyst play, but will reassess my trading strategy once data is released. The company trades on the OTC and their current financial situation prevents me from considering this a long term play at the present time. There are a number of warrants that are close to being ï¿½in the moneyï¿½ which could generate substantial cash inflows for the company if the data presented is positive and other fundamental developments occur. Its situation is similar to that of AVXL and TPIV, in which the exercise of warrants created the funding to further fund clinical trials. It is severely under-valued by the market and if data is compelling, there exists the opportunity for substantial gains. Other companies, targeting similar indications, have market caps at 10x-15xï¿½s greater than this company. Given their status on the OTC, please be advised of the risks. Due to the impending catalyst and anticipated trading window, I will provide a shorter version of my due diligence. Glioblastoma: Here is a brief description of glioblastoma and the current standard of care. ï¿½According to the Cancer Research Institute, Glioblastomas are one of the most aggressive types of brain cancer, with most patients failing to reach the one year survival mark and few living to see three years following diagnosis. For newly diagnosed GBM patients treated under the current standard of care, median progression free survival is 6.9 months and median overall survival is 14.6 months. Only 25% of newly diagnosed patients survive for 24 months and less than 10% survive more than 5 years. With approximately 16,000 newly diagnosed patients and 10,000 deaths from the disease in the US alone, there is a dire need to improve the standard of care.ï¿½ ï¿½The current standard of care consists of Temodar as the chemotherapeutic agent in chemoradiative therapy as a first line treatment. Temodar received approval in 2005 for the treatment of newly diagnosed GBM on the basis that it improved overall survival by 2.5 months. In 2009, the FDA approved Avastin as a second line treatment for patients with disease progression following treatment with temodar. Avastin's approval was based off an improvement in progression free survival.ï¿½ With 16,000 newly diagnosed patients every year, the GBM market is measured in the billions. Link to Seeking Alpha article used as reference Company: GenSpera Ticker: GNSZ Company Presentation: The CEO will also be interviewed to day on RadioMD. A link to their website can be found here. Current Share Price: $.72 Outstanding Shares : 37.1 million Float : 26 million Market Cap: $25.3 million Ownership: Insiders and institutions own approximately 11,082,065 shares or 29.8% of the company. In the recent offering, Sabby Management purchased almost 3 million shares and warrants. If you would like to see a comprehensive list of who owns shares in the company, it can be found on their most recent registration statement. Catalyst: Interim Phase 2 Glioblastoma data and an update on ï¿½corporate partnership progressï¿½ will be presented at the Rodman & Renshaw Investors Conference on September 9th. The top-line data readout for the P2 trial is in Q1 2016. This data was initially scheduled to be presented at the Society for Neuro-Oncology meeting on November 19th 2015. However, the company recently decided to present the data months earlier at an investor conference as well as provide a ï¿½partnershipï¿½ update. This is an interesting change, but I believe that this change in data release and update may be a significant value driver for the company. The CEO has made clear that it intends to partner another one of its products for liver cancer by the end of the year and will likely provide some insight into this process on the 9th. Since this announcement, there has been a substantial increase in the trading volume.For those involved in AVXL from the beginning, you know that their data was initially scheduled to be released in September, but they moved the date up to July. We all know how that ended up and this appears to be a very similar situation with GenSpera. Financial Position: As of June 30 , 2015, Genspera had $121k in cash. However, in July 2015, the company issued a private placement of 3,591,278 shares of common stock, the majority of which were purchased by Sabby Management, which netted them an additional $2.2 million. Each unit of the offering consisted of one share of common stock at $.70, one warrant at $.70 that expires in 18 months, and one warrant at $.80 that expires in 5 years. The company burns roughly $1.3 million per quarter, and thus, per the companyï¿½s 10Q, they expect this cash to fund their operations for 3-6 months. Prior the offering at June 30 , 2015, the company had a total of 18,549,724 warrants outstanding with a weighted average exercise price of $1.51. When adding an additional 7 million warrants from this offering, the company is left with roughly 25 million warrants outstanding for an average exercise price of approximately $1.30 per share. Interestingly, in the most recent offering, only $2.2M in cash was raised, which is a paltry sum for a life sciences company. Possible explanations for the size of this offering could include : 1) They were unable find buyers for their shares , 2) They anticipate a partnership in the near-term with upfront cash to fund operations (more on that later), 3) They anticipate share price appreciation in the coming months that will allow the exercise of outstanding warrants, or 4) A combination of these factors. Company Background: Typically I would like to provide a summary of the company and what it has going on. However, the well renowned and respected Seeking Alpha & Zackï¿½s contributor Jason Napodano, CFA, recently completed a thorough, non-biased review of the company, clinical development, and market potential. I am not going to ï¿½re-invent the wheelï¿½ as he delivers a superior product and thus, I strongly suggest that his analysis be reviewed. I would like, however, to present some of the ï¿½tellsï¿½ that I have utilized when creating my thesis and investment decision. First, the company moved the interim glioblastoma data release to an investor conference from a scientific conference later in the year. Presenting data at these types of conferences is uncommon and thus the recent announcement piqued my interest. Why would a company move up a data release and want to present this data to a room full of investors? You donï¿½t fill a room full of investors and then present ï¿½badï¿½ data. Second, the CEO has been dropping hints of partnership for months. The phase 2 liver cancer trial completed earlier this year and the company has repeatedly stated that they will be continuing this program with a partner. Now, I take CEO statements of partnerships with a healthy dose of salt, but GenSperaï¿½s CEO has taken actions and made statements that suggest a partnership may be imminent. In July, the CEO made two posts on his companyï¿½s blog discussing their rationale for partnership as well as the companyï¿½s recent partnership activities. One quote of particular interest is as follows: ï¿½GenSpera has been actively engaged in this partnering process for over two years since the beginning of Phase II clinical trials in liver cancer. We started early because we knew that comfort in the validity of our science and clinical data would be generated as potential partners could see data develop and become familiar with our management team. It is personally gratifying to me to learn that there are well-respected companies in our industry who also see the commercial potential for mipsagargin, and are closely tracking our clinical trials.ï¿½ These posts can be found here: On August 12 , 2015, Craig Dionne, chief executive officer of GenSpera, Inc. (the ï¿½Companyï¿½) participated as a guest on Redditï¿½s ï¿½Ask Me Anything.ï¿½ A transcript of this can be found below, but I would like to highlight some of his comments. Q: ï¿½When are you planning to begin Phase 3 Liver Trials? ï¿½A: ï¿½We plan to begin the next liver study in late 2015 or early 2016 depending upon where we stand with a potential corporate partner at that time.ï¿½Q: ï¿½Can you explain how your brain cancer trials are progressing? ï¿½A: ï¿½ï¿½We saw such good data and we have announced the expanded enrollment and the second stage is underway.ï¿½ These statements, coupled with the change in data release date suggests that investors may hear significant information at the Rodman & Renshaw conference. I firmly believe the data presented will be positive and remain cautiously optimistic on the development of a partnership. Please keep in mind that biotech CEOï¿½s often talk a big story. Articles: Summary: The defined data release at the Rodman & Renshaw conference on September 9th provides an excellent opportunity for investors. The company has decided to move the data release forward two months and present the data at a conference of potential investors. I would hardly expect the company to do so if the data they have so far received is anything less than stellar. This suggests to me, that investors will likely receive a positive press release announcing the data on either September 9th or 10th. The company has also made it clear that they are currently seeking a partnership and have been in these discussion for two years. After reviewing SEC forms, corporate presentations, and earning reports, at no time has the CEO made reference to updating investors on ï¿½corporate partnership progress.ï¿½ This change could possibly indicate that some progress has been made and a partnership may be signed in the near future. Positive data alone could be a significant value driver and partnership could add additional further momentum to any share price movement. GenSpera has already presented positive results in liver cancer and it is very likely to present positive data for glioblastoma. Liver cancer and glioblastoma represent a market in excess of $2.5 billion, and with a paltry market cap of $25 million, the company remains grossly undervalued and unappreciated by the market. Final Thoughts: GenSpera provides an excellent trading opportunity in the coming days. Market volatility continues and the key to making money during these periods is to minimize risk and find opportunities with a high chance of success. With a defined catalyst date, investors and longer term shareholders have the potential to make nice returns, given that the data and information presented is positive. As I have detailed above, there are strong indicators that GenSpera will be presenting positive data as well as other fundamental developments. GenSpera does have its merits, but their current cash situation prevents me from generating a long-term thesis at this time, though this could change in the coming weeks. Interestingly, GenSpera is in a roughly similar situation to AVXL and TPIV prior to their substantial price appreciation. AVXL and TPIV both possessed adequate funds, but were hardly in a position to fund further clinical trials without the execution their warrants. However, much like GenSpera, they had a warrant structure that provided more funds with their share price appreciation. As evidenced in previous trades, buying well below the warrant execution price, in severely undervalued companies, with significant catalysts on deck, is a good bet for a profitable trade. If you would like to be added to my email distribution list, please send a membership request. The link can be found here. I have never been paid or compensated by anyone for any stock I have ever traded, discussed, or blogged. Anything stated otherwise is false. I am held accountable to this statement by the SEC as any stock promoters, writers, or bloggers who do not disclose payment are in violation of the law. None of the information shared is to be construed as financial or investment advice. This information is not to be construed as an offer to buy or sell any security mentioned. All statements written are believed to be accurate. I strongly encourage you to do your own due diligence and consult an investment professional before making any investment decision. Acting on what any one writer, including myself has imparted to you is foolish. There are a plethora of things which can occur in lieu of any forward-looking statement I have made. Any stock in which I complete due diligence is subject to all manner of influences, which can change its value in dramatic fashion upwards or downwards. {'entities': [[16, 20, 'STOCK'], [84, 88, 'STOCK'], [188, 192, 'STOCK'], [550, 556, 'TREND'], [2119, 2123, 'STOCK'], [3654, 3657, 'ORGANISATION '], [4021, 4025, 'STOCK']]} \n",
      "\n",
      "GE announces over $1 billion in orders from Asia Pacific customersI think General Electric can be bought for more than one reason: bargain hunting and inexpensive stock. The valuation point is also in the favor of the company only. Even if some worst things happen, the stock could be a safe bet for just income alone because dividend could rise as part of its capital return program. Therefore, it is worth buying now. Especially after this news.Any thoughts? {'entities': [[44, 56, 'REGION'], [341, 345, 'TREND']]} \n",
      "\n",
      "Considering IRAs are not taxable when selling stocks, isn't it more worth it to make risky/frequent investments in IRAs vs brokerage accounts? I have both IRA and brokerage accounts. My regular brokerage account is much larger than my IRA.I was wondering...if i'm going to be doing stuff like investing in individual stocks or making frequent buys/sells, isn't it more worth it to do it in the IRA account? That way, my brokerage acct can hold the investments that i keep for 1 year to take capital gains benefit.For instance, if I want to buy AAPL at a large dip to try to sell it shortly after in order to make a quick win...it would be better off if i did it in the IRA account to avoid taxable events.Am i wrong? Is this reasoning sound? The reason i'm thinking about it, is because i'm thinking of consolidating my retirement accounts into vanguard. But i'm considering that maybe I should move it to something like Scottrade so that I can do individual stock investments because of the reasoning above. {'entities': [[546, 550, 'STOCK']]} \n",
      "\n",
      "FDA approves Rolapitant for OPK/TSROHasn't really hit the newswire yet, OPK was up 5% this morning and has come back a bit. I'll include a link to PR once it comes out. Thanks /u/zhaso {'entities': [[0, 3, 'ORGANISATION '], [72, 75, 'STOCK'], [80, 82, 'TREND']]} \n",
      "\n",
      "US Futures pointing lower...PANIC!!! Well shucks, I put a lot of longs of yesterday. RIP monie.China getting a bit rekt too at the open.US futures pointing down over 1.3%, and China, about 2 %. {'entities': [[3, 10, 'DERIVATIVE'], [65, 70, 'POSITION'], [139, 146, 'DERIVATIVE'], [156, 160, 'TREND']]} \n",
      "\n",
      "Some quick DD on Tokai Pharmaceuticals (TKAI). Low floater, good tute ownership, possibly undervalued prostate cancer yoloI stumbled upon these guys about a week ago while doing some canoodling around for another biotech play.**Tokai Pharmaceuticals (TKAI) ** $12.07 $266 MM market cap $100 MM cash on hand22.5 MM shares outstanding3.3 MM float20.5% insider ownership & 28.7% tute ownershipHedgefunds that own TKAI. Mark Kingdon of Kingdon Capital Management leads the way with 741k shares. down 20% for the year. There was some unusual volume movement today as someone picked up 171k shares at $11.83. One to keep your eye on.---They are currently underway through phase 3 trials for a prostate drug. Read this here for the science and market potential: Management has announced that they will begin the ARMOR3-SV Phase 3 clinical trial in the second half of this year. The structure of the trial has been finalized and the FDA and EMA have both signed off on the design. The trial will enroll 148 patients with progressive metastatic CRPC with detectable AR-V7 expression. Patients will be randomized to treatment with either Galeterone or Xtandi. The primary endpoint is radiographic PFS (rPFS) with secondary endpoints of PSA response, OS, time to chemotherapy, and safety.> **Itï¿½s hard to find a Phase 3 clinical trial as de-risked as the one set-up by Tokai management. In my opinion, the chance of success here is nearly 100% .** Galeterone has been shown to be just as effective in patients with AR-V7 than without due to its numerous mechanisms of action while Xtandi is known to be ineffective in patients with AR-V7. The Johns Hopkins study showed that patients with AR-V7 expression had no PSA50 response, only 1.4 months of PSA progression free survival and 2.1 months of rPFS. In the Phase 2 Galeterone clinical trial 86% of patients with AR-V7 achieved PSA50 response translating to a 7.3 month PSA PFS.---Some more articles: gave Takai an Outperform rating and a $44 price target. Xu acknowledged that ï¿½the development of a companion diagnostic to identify AR-V7 expression for the study enrollment, as well as FDA approval for this diagnostic, is a prerequisite to beginning this Phase III trial.ï¿½ Thus, ï¿½finalizing and validating the assay is the next major milestone to be achieved in the development program, ï¿½ in her opinion. This is the first time Xu has given a recommendation for Tokai.---Oppenheimer gives $38 PT: flagship compound galeterone initially addresses a clear unmet medical need in prostate cancer, i.e. castration-resistant prostate cancer (CRPR) patients with tumor-expressing androgen receptor (AR) split variants (AR-V7) for whom recently approved novel agents such as Zytiga and Xtandi are not expected to be effective. **We view Tokai shares as having significant upside potential (phase 3 start in the first half of 2015, pivotal data in the second half of 2015), given a clear/favorable regulatory pathway, a high probability of phase 3 success, sizeable market opportunity (addressing a key resistance mechanism to novel therapies) and no foreseeable competition.**---Article about main lady person and Phase 3 trial: not in this one yet but looks like it could be a nice risky play/potential long term hold. I'd like to get in within the next month or so. As always [god speed] ( {'entities': [[40, 44, 'STOCK'], [413, 425, 'CEO']]} \n",
      "\n",
      "UK Brokers 0% commissionHello i was just wondering if there any 0% commission brokers like \" Robinhood \" which are based in England. {'entities': []} \n",
      "\n",
      "touched for the very first timeSo I got drunk yesterday, sold everything I had and bought a shit ton of ProShares Short S & P500 (SH). Am I one of you now? edit: wtf the market was supposed to crash im losing money wtf wheres my yacht {'entities': [[120, 126, 'INDEX']]} \n",
      "\n",
      "Alright, let's do an analysis of this turd GBSN! Hey hey! First of all I wannasay I have basically zero interest in this company long term. I just think it provides a good example of how complicated the market can be and I want to try to put a value on it. My fundamental analysis is not the greatest as I'm 95% a technical trader, but I do know a bit...so let's see if we can get a discussion started. It should be educational for all. Ok so the initial thing that drew me to this stock is that the chart is just completely destroyed in the last couple weeks. Normally when I see a stock shed 80-90% of its value in just a couple weeks, it will snap back hard and provide a good quick trade especially if timed with a market or sector bounce (See CJES recently for what I mean). I was curious why GBSN dropped so much so I started reading and this 8K from this morning summarizes it nicely :...in the most recent [10-Q] (we have 7,289,688 shares outstanding. Add to that the 1,970,000 issued per this 8k after conversion of the Series E preferred stock, and 17,730,172 shares issued per the 8k after conversion of Series C warrants on a cashless basis, and you get the 26,998,860 shares listed as currently outstanding on the 8k. Now there are also still 2,181,250 shares of series E preferred stock out there, which according to the 8k can be converted to 4 shares each of common stock, so that's another 8,725,000 shares of common stock. There are also 18,643,040 series C warrants still outstanding, which are exerciseable either for cash at $2.55/share or cashless for common shares (at least that's how I am interpreting this, could be wrong). That said let's do some math: If the series E's are converted that would bring outstanding shares to 35,723,860. If the series C's were exercised completely in cash it would equate to $47,539,752 and if they were converted to common shares at the same ratio as what's in this 8k (approximately 6.41 shares per warrant), it would result in the issuance of 119,547,590 additional shares, bringing the total outstanding to 155,271,450 shares. At that dilution the stock right now would have a market cap of approximately 46.58m. On the surface, it looks like with only 7.2m shares outstanding per their most recent 10Q the stock is trading at only about 12-15% of its cash value. When you consider all the potential dilution, we have the potential for either a $47.5m cash outflow if all the series C warrants were exercised for cash, or a dilution of almost 150m shares. Now, this could all be totally wrong since like I said I'm not a fundamentals guy really and admittedly I have no idea how warrants even work, but does this sound right? If so, even at $0.30 the stock doesn't look very appealing since it has no earnings and only $15.27m in cash. Upon a 150m share dilution the stock would be worth $0.10 or so in cash only. If series C warrants were all exercised at $2.55 for cash, the company is basically bankrupt. So, what say ye? Discuss. {'entities': [[43, 47, 'STOCK']]} \n",
      "\n",
      "Daily advice thread. All questions about your personal situation should be asked hereIf your question is \" I have $10,000, what do I do? \" or anything similar. There is no single answer to this question, but we will also need A LOT MORE information if we are to give some sort of answer* How old are you? * Are you employed/making income? How much? * What are your objectives with this money? (buy a house? Retirement savings?) * What is your risk tolerance? (Do you mind risking it at blackjack or do you need to know its 100% safe?) * What are you current holdings? (Do you already have exposure to specific funds and sectors?) * Any other assets? House paid off? Cars? Expensive girlfriend? (not really an asset) * What is your time horizon? Do you need this money next month? Next 20yrs? * Any big debts? * Any other relevant financial information will be useful to give you a proper answer.Be aware that these answers are just opinions of Redditors and should be used as a starting point for your research. You should strongly consider seeing a registered financial rep before making any financial decisions! {'entities': []} \n",
      "\n",
      "I done messed up.I had a rookie mistake today. Tried to day trade on unsettled funds...learned about Regulation T today too...Sold stocks yesterday to get some cash to try for a day trade today. Little did I know that those proceeds need to sit for 3 days and clear. What I find the cruel twist is is that I can buy stocks with these proceeds, yet I cannot sell that stock until the funds clear. I got 100 shares of Trevena this morning, it was popping, I had smiles all around til the trade was halted by Trade King. I called them and they explained I could make the trade but I would violate Reg. T and have my account frozen for 90 days. I would have made a couple hundred bucks today, but instead I'm stuck with a stock that will probably contract after a huge pop. SHIT! Edit: Lots of great information being learned in this thread, thanks! to all who are providing technical advice out of the kindness of their hearts, I just applied to have a margin account instead of a cash account through TK. One more day before funds are settled and the stock is still up, so here's to hoping I don't pay to much for this mistake. Edit 2.0- Made the call yesterday and sold off at $10.20, haven't heard anything about getting a violation yet. Made a cool $140...could have made 30% but 15% will do just fine. Margin account has been finalized. Thanks again for the knowledge! {'entities': [[416, 423, 'STOCK']]} \n",
      "\n",
      "Indisputable proof that the shemitah is upon us.A while back, I read this [interesting piece] (by a guy who has a simple method for timing the market. The method is this: when the S & P 500 closes below its 300-day moving average, you sell. When it closes above its 300-day moving average, you buy. The article linked above shows some pretty impressive returns if you followed his method.But, the graphs in his article end in 2012.So, I created this graph of S & P500 closing price vs its 300-day moving average, to the present. right. It has closed STRONGLY below its 300 day moving average. Sell everything, boys. I'm honestly expecting a 40% crash from here, as we find out in the coming months the full extent of China's deflationary depression, and the havoc it will wreak on US companies' earnings. {'entities': [[182, 189, 'INDEX'], [560, 565, 'TREND'], [648, 653, 'TREND']]} \n",
      "\n",
      "$ OPKHas been going down a bit lately. Is this a buying opportunity or is it going to go down further? I know there is an FDA decision coming up soon, but how confident are we that it will be approved? {'entities': [[1, 7, 'STOCK'], [121, 124, 'ORGANISATION ']]} \n",
      "\n",
      "$ ATEC DD--.57--NASDAQ_**THIS DD IS BEING MARKED AS FAILED AND CLOSED**_In Q3 ATEC announced their earnings fell from the previous quarter. ATEC subsequently filed for confidentiality on two loans taken out on March 2014. Hiding loan details is a shady thing to do and increases the risk associated with this company over and above what I would consider acceptable even for a penny play. As such I am marking the play closed and failed, despite the fact that some people did make money on ATEC if they shorted the stock because of the NASDAQ listing._**THIS DD IS BEING MARKED AS FAILED AND CLOSED**_TL; DR: This is an oversold company that has probably hit bottom, but will drift until the next earnings report. By the 4th quarter the share price should recover back to its $1.40 range (a .90c gain) if the company's guidance holds true. This is a reasonable six month play.------------------------------------------------ -**Warning**: This company will be placed on the non-compliance list after September the 4th. You should not consider this stock until after this has been digested as it will further weigh the stock price and may provide a better buying opportunity.-**The company**: A biotech company focusing on spinal implants, Alphatec Holdings played comfortably in the $1.40 range until August 4th when it reported a loss of [4 cents a share (3.9 million) ] (The company attributed this to missing sales targets in the US and the strong dollar affecting international profits. The missed sales was attributed to training a new sales force to cover the 90% of surgeons that were not covered before. The company likened this to a tax that had to be paid, but really its more of an investment (Not as many people selling this quarter but 2-3 times more selling the next). In July the company received a FDA notice about quality control in one of its acquisitions and the issue should be resolved without incident. All weighed on the sell-off.-They are introducing two new products that should show up in revenues the next 2 quarters however in 2016 their products may be usurped by AMDA if AMDA's silicon intrude product is approved and proves superior. But that risk is at least a year away at this point and this DD considers only a 6 month play.-Outsourcing 100 employees so this cost is a drag on revenue until the end of the year although costs may go down to compensate for this one time expense.-8.9 unrestricted cash on hand. An additional 4.6 that's allocated to a settlement with OrthoTec. Has debt of 76 million and will have $3 million in interest as a drag until the end of the year. Added ~ $10 million in debt last quarter to pay for their rebuilding. -The company expects better revenue and profits in the second half of the year based on larger sales force becoming productive and their new Arsenal line revenue starting to show up in financials. Management strongly believes in the direction they are taking the company: * COO purchased 30,000 shares 8/24* General Councel 3,500 shares on 8/20* COO purchased 30,000 shares 8/20* A Director purchased 30,000 shares 8/14* CEO purchased 35,000 shares on 8/12* CFO purchased 13,000 shares on 8/11* President purchased 30,000 shares on 8/11Note these insider transactions do indicate the company is not in acquisition talks. There were similar purchases in may.-Float is 64m.Short Interest is 2.6m.**Catalysts**: * 3rd quarter ER: should show improving sales and declining losses (perhaps a small profit with the new product pipeline just ramping up) * 4th quarter ER: should show improving sales and a profit that could exceed guidance if the new pipeline proves lucrative) -This is an earnings bet. If the next quarter can show the company is back on track or at least close to getting back the share price should rebound into the dollar range. If their new product line is successful enough to impact q3 revenue the share price may fully recover in anticipation of even better q4 results. After q4 with declining offshoring expenses, a larger sales force and new products its possible this stock will begin trading back in the $2- $3 range.-**Risks**: * Low volume stock! Use limits to buy and sell, use stops only with limits or your market order may reach into the pennies to sell. Be aware that if things go wrong it may be difficult to extract yourself if you make a significant investment.* Because of the low volume this stock is subject to manipulation. Because of the larger float and lack of substantial drivers, it's not as attractive as a pump and dump but it may still happen.* NASDAQ non-compliance may drop the stock price into the .40s at least temporarily, or because it is so over-sold maybe not. The company will have two 180 day extensions to get the share price over $1.00 for ten days, a goal which they can easily meet without a reverse split.* May face competition on their product line from AMDA's silicon nitrade product if its approved by the FDA in the next 5 months. AMDA has already lined up OEM suppliers for its product and is already competing with ATEC overseas which may start impacting $ATEC's revenues and profits.* Because of the depressed price, expect resistance as the stock climbs as longs from the $1.40 level seek to escape with manageable losses. This thing probably won't skyrocket but it should climb.-**Resources**: * [Company Website] ([ Yahoo] ([ Latest Company Report] (and [Transcript] ([ Short Volume] ([ iHub] (is a fairly low risk six month hold with a return on investment of 100-200% (higher than 125% if their new products appear successful).-**Disclosure**: I do not have a stake in this company. This report was compiled because someone asked for it and DD is kinda a hobby.-As always--do your own DD. Just because an internet YOLO yahoo says a stock will probably go up doesn't mean it will, or that it will in the expected time-line. Invest only what you can afford to lose._**THIS DD IS BEING MARKED AS FAILED AND CLOSED**_ {'entities': [[1, 5, 'STOCK'], [19, 32, 'INDEX'], [1826, 1829, 'ORGANISATION '], [2516, 2525, 'ORGANISATION ']]} \n",
      "\n",
      "[ EMERGENCY] PLEASE HELP MEI HAVE 10K TO THROW AWAY AND I LOVE GAMBLING WHAT IS THE MOST UPSIDE TRADE I CAN MAKE THAT YOU ARE TOO AFRAID TO MAKE I WILL PUT ALL 10K IN THE MOST UPVOTED SUGGESTION AND POST PICS OF BEFORE AND AFTERTL; DR: CAPS LOCKEDIT: IM UGLY 2: AS SOON AS FUNDS CLEAR I WILL TRADE HIGHEST VOTED POST AND MAKE ANOTHER THREAD ASKING HOW LONG I SHOULD HOLD IT FOR. MY ROBINHOOD ACCOUNT NOW BELONGS TO WSBEDIT 3: I FORGOT TO PUT 2 IN MY SECOND EDIT {'entities': []} \n",
      "\n",
      "OSK is not feeding my YOLO BONRAfter close yesterday, OSK announced buyback authorization for 10 million shares. Today? It's down/flat. Looks like I'll be holding a while. {'entities': [[0, 3, 'STOCK']]} \n",
      "\n",
      "$ AVXL dipping! AVXL has been dropping from 1.30. It's at 1.15 right now. Good time to YOLO! Edit : 1.07...will it drop below $1 today? Edit 2: Looks like it's going to hold at 1.10+ {'entities': [[1, 5, 'STOCK'], [6, 13, 'TREND'], [14, 18, 'STOCK'], [28, 36, 'TREND']]} \n",
      "\n",
      "Twitter Plunges: Undervalued Or Reasonable? TWTR hasn't had a non-automatic insider trade for almost a month now. That's HIGHLY unusual for this stock. {'entities': [[0, 7, 'ORGANISATION '], [8, 15, 'TREND'], [43, 47, 'STOCK']]} \n",
      "\n",
      "$ UWTI & $UGAZ--Credit Suisse announces reverse spilt by Sept. 101-for-10 $UWTI 1-for-5 $UGAZ {'entities': [[1, 5, 'STOCK'], [9, 13, 'STOCK'], [17, 30, 'ORGANISATION ']]} \n",
      "\n",
      "Dear mods, FS Comeau here with a message for you ... {'entities': []} \n",
      "\n",
      "[ Week of 9/1/15] Condensed Thread of Earnings, Decisions, Reports, Analyses.Sometimes it's hard to sift through the dank memes and horseshit, so I'm featuring a few easy bets to make: Going to try and include a large cap earnings, small cap earnings, FDA decision, tradable economic report every week. Comment to request an add, delete, edit, etc. #Featured Events| Ticker | Type | Date | Consensus | Optionable | Description ||-------- -|---------------- -|----------|-----------|------------ |--------------------------------------------------------------------------------------|| COST | Earnings | 9/2/2015 | $1.66 | True | [Costco's Earnings, After Hours.] (|| SEAC | Earnings | 9/2/2015 | $-0.25 | Illiquid | [Random Small-Cap Earnings, After Hours] (|| SPY/VXX | Economic Report | 9/4/2015 | 5.2% | True | [Unemployment Report at 8:30 AM] (|| TSRO | PDUFA | 9/5/2015 |--| Illiquid | [New Drug Application for oral rolapitant under review by FDA w/ PDUFA goal date of 9/5/15.] (|| OPK | PDUFA | 9/5/2015 |--| Semi-liquid | [Licensee of oral rolapitant under review by FDA w/ PDUFA goal date of 9/5/15.] (| #Featured User Analysis| Ticker | Industry | Price | Target | Catalysts | TL; DR | User | Link ||------|------|-------|------|-|---- |---|--|| TKAI | Pharma | $12.09 | $30.00| Phase 3 |Undervalued |/u/bewbspl0x | [Some quick DD on Tokai....] ( {'entities': [[250, 253, 'ORGANISATION ']]} \n",
      "\n",
      " {'entities': []} \n",
      "\n",
      "Q: VXX / XIV, what's the big deal? A: it's the +100% /year, once/twice in a decade yolo opportunity.If you wondered what the big deal is with everyone watching VIX / VXX / XIV, this is why. Since 2008 / 2011, the VIX futures haven't been up this much.XIV has dropped by over 50% now, and historically, it has always recovered within a few months if the crisis is lame, and even if not, it takes only 1y for 2011 , 2y for 2008 to get back to the previous peak. Expected return: +100% in 3 months to a year: - I'm guessing 6ish month now.Scenarios: * If this is a repeat of 2011 and the VIX stays high for 6 months, expect XIV to drop another 50% before it bottoms. From the bottom up, the previous level at +300% is reached in 12 months.* If this isn't, the bounce back can happen in 3-6 months to +100% .* If this is 2008 #2 instead, well, it takes 2 years, and another -75% on XIV.* If this is something completely different and the market is fucked for good - say goodbye to your money. Backwardation for years means VXX and XIV swap places - see what 5 years of contango did to VXX: - 1100 to 26 in 5 years, -53% per year annualized.Warning: don't short VXX unless you can take a margin hit of $wtf. VXX was at 15, is now at 30, and at 2011 level, it will be at 60 and 2008 = 120. A 100 share short can grow from $1500 in value to $12000. XIV, the inverse, will lose 50% /75% of its value, but at least you don't get margin called.Disclosure: I'm short VIX via XIV, holding until it recovers to 45ish, and have open orders to open more if it drops : {'entities': [[3, 6, 'STOCK'], [9, 12, 'STOCK'], [159, 162, 'STOCK'], [165, 168, 'STOCK'], [171, 174, 'STOCK'], [216, 223, 'DERIVATIVE'], [245, 253, 'STOCK'], [258, 265, 'TREND'], [1542, 1547, 'TREND']]} \n",
      "\n",
      "Is there a list of news (with dates) that can significantly affect the market? So far example yesterday weak Chinese manufacturing data affected the market pretty drastically. I am sure that if we get news that USA unemployment shot up for the last quarter, and exports were significantly lower than expected, it will have a disastrous effect on the market. But I have no clue when such data is released, etc. Is there a list somewhere of such crucial data? {'entities': []} \n",
      "\n",
      "$ GILD shares are cheapGilead (NASDAQ: [GILD] (ended [2014] (with an impressive increase in its top and bottom lines. Product sales doubled, compared to the prior fiscal year, and non-GAAP earnings per share more than quadrupled. Gilead's fiscal 2015 is carrying the same momentum. The second-quarter earnings report revealed that product sales have increased significantly from the prior-year period, aided by the performance of Gilead's Hepatitis C drug Harvoni. The successful quarter led Gilead to raise its guidance for the fiscal year of 2015.Any investor that is aware of Gilead knows that one of its most successful products is the company's hepatitis C treatment Harvoni; hepatitis C medicines from Gilead account for ~60% of its revenue. Though we think the convenience and efficacy of Harvoni is simply hard-to-beat as it relates to a hep-C cure, AbbVie (NYSE: [ABBV] (offers a substitute for Gilead's treatment in its Viekira Pak. Merck (NYSE: [MRK] (and others are also active in the hep-C arena. Still, in any case, the global hep-C market is large enough for a number of players, in our view, suggesting that even under a scenario of share loss, Gilead will still be in good shape.To the excitement of income investors, Gilead [announced] (its first-ever dividend as its fiscal 2014 ended. A $0.43 per share dividend and a $15 billion share buyback program were initiated. Growth potential in the capital returned to shareholders remains substantial, particularly in light of the company's cash-generating prowess. From our perspective, Gilead's claim on the global hep-C market is rock solid, contributes to its [Economic Castle] (rating of 'Very Attractive ,' and we think investors are getting its pipeline for free within the context of our valuation model. Let's take a closer look at Gilead's other investment considerations and derive a fair value estimate for shares.**Investment Highlights**ï¿½ Gilead's primary areas of focus include HIV/AIDS, hepatitis B and C, serious cardiovascular/metabolic and respiratory conditions. The firm's drug Sovaldi and its successor Harvoni, a once-daily oral treatment of HCV infection, are its primary product drivers and comprise a large portion of antiviral product sales. Complera/Eviplera and Stribild--single tablet regimens for HIV--are also experiencing nice sales expansion. Sovaldi, Complera/Eviplera and Stribild were launched in 2012/2013 , 2012/2013 and 2011, respectively, and Harvoni was approved in October 2014. Gilead's pipeline also offers tremendous opportunities.ï¿½ According to the World Health Organization , 130-150 million people globally have chronic hepatitis C infection, and a significant number of those who are chronically infected will develop liver cirrhosis or liver cancer, with as many as 350,000-500,000 people dying each year from hepatitis C-related liver diseases. The HCV market is vastly underserved, providing long-term opportunities for Gilead.ï¿½ Harvoni's efficacy, by combining the NS5A inhibitor ledipasvir with the nucleotide analog polymerase inhibitor sofosbuvir (Solvadi), is so impressive that it can achieve HCV cure rates in the range of 94% -99% . This efficacy will be difficult for any competing therapy to better.ï¿½ Though we think Gilead is operating in a rational oligopoly in the HCV market, revenue erosion is a key risk. JNJ's (NYSE: JNJ) Janssen's Olysio and AbbVie's Viekira Pak are two rivals in the HCV market, and Express Scripts (NASDAQ: ESRX) continues to pressure drug providers on price. This can't be ignored.ï¿½ Gilead has started paying a dividend, but that doesn't mean the company won't be active with respect to acquisitions in the future, and it certainly doesn't mean that it doesn't have future opportunities for investment within its pipeline. For a company that owns the cure for hep-C, we can only imagine what's next. We're excited just thinking about it.**Economic Profit Analysis**In our opinion, the best measure of a firm's ability to create value for shareholders is expressed by comparing its return on invested capital with its weighted average cost of capital. The gap or difference between ROIC and WACC is called the firm's economic profit spread. Gilead Sciences' 3-year historical return on invested capital (without goodwill) is 55.4%, which is above the estimate of its cost of capital of 10.4% . As such, we assign the firm a ValueCreationï¿½ rating of EXCELLENT.**Cash Flow Analysis**Free cash flow generation has been outstanding at Gilead Sciences in recent years. Firms that generate a free cash flow margin (free cash flow divided by total revenue) above 5% are usually considered cash cows. Gilead Sciences' free cash flow margin has averaged about 34.7% during the past 3 years. As such, we think the firm's cash flow generation is relatively STRONG.The free cash flow measure is derived by taking cash flow from operations less capital expenditures and differs from enterprise free cash flow (FCFF), which we use in deriving our fair value estimate for the company. At Gilead Sciences, cash flow from operations increased about 301% from levels registered two years ago, while capital expenditures expanded about 40% over the same time period.**Valuation Analysis**This is the culmination of our analysis. Below we outline our valuation assumptions and derive a fair value estimate for shares.Our discounted cash flow model indicates that Gilead Sciences' shares are worth between $129- $193 each. Shares are currently trading at ~ $102, well below the lower bound of our fair value range. This indicates that we feel there is significant upside potential associated with shares at this time.The margin of safety around our fair value estimate is driven by the firm's LOW ValueRiskï¿½ rating, which is derived from the historical volatility of key valuation drivers. The estimated fair value of $161 per share represents a price-to-earnings (P/E) ratio of about 21.9 times last year's earnings and an implied EV/EBITDA multiple of about 16.4 times last year's EBITDA.Our model reflects a compound annual revenue growth rate of 7.9% during the next five years, a pace that is lower than the firm's 3-year historical compound annual growth rate of 43.7% . Our model reflects a 5-year projected average operating margin of 73%, which is above Gilead Sciences' trailing 3-year average.Beyond year 5, we assume free cash flow will grow at an annual rate of 2.7% for the next 15 years and 3% in perpetuity. For Gilead Sciences, we use a 10.4% weighted average cost of capital to discount future free cash flows.**Margin of Safety Analysis**Our discounted cash flow process values each firm on the basis of the present value of all future free cash flows. Although we estimate the firm's fair value at about $161 per share, every company has a range of probable fair values that's created by the uncertainty of key valuation drivers (like future revenue or earnings, for example). After all, if the future was known with certainty, we wouldn't see much volatility in the markets as stocks would trade precisely at their known fair values.Our ValueRiskï¿½ rating sets the margin of safety or the fair value range we assign to each stock. We think the firm is attractive below $129 per share, but quite expensive above $193 per share. **Wrapping Things Up**We think Gilead Sciences is a fantastic company. It generates free cash flow at a tremendous rate, and has one of the most effective drugs with great potential in the huge HCV market. Rival drugs may pressure prices, and therefore impede the pace of long-term revenue expansion, however.Nevertheless, we think there is significant long-term opportunities present for Gilead, and on the basis of its significant undervaluation, we think investors are getting the company's pipeline and potential within its acquisition program for free. Even assuming modest long-term top-line growth, Gilead Sciences is undervalued. Though shares have had a mighty run in recent years, the company's technical indicators aren't terrible, and shares are trading at relatively low earnings multiples compared to its peers.Gilead Sciences currently registers a 9 on the [Valuentum Buying Index.] (article or report and any links within are for information purposes only and should not be considered a solicitation to buy or sell any security. Valuentum is not responsible for any errors or omissions or for results obtained from the use of this article and accepts no liability for how readers may choose to utilize the content. Assumptions, opinions, and estimates are based on our judgment as of the date of the article and are subject to change without notice. For more information about Valuentum and the products and services it offers, please contact us at info @ valuentum.com.* {'entities': [[1, 5, 'STOCK'], [30, 36, 'INDEX'], [864, 868, 'INDEX'], [870, 874, 'STOCK']]} \n",
      "\n"
     ]
    }
   ],
   "source": [
    "for annotation in TRAINING_DATA['annotations']:\n",
    "    text, entity = annotation[0], annotation[1]\n",
    "    print(text, entity, '\\n')"
   ]
  },
  {
   "cell_type": "code",
   "execution_count": 326,
   "metadata": {},
   "outputs": [
    {
     "name": "stdout",
     "output_type": "stream",
     "text": [
      "{'entities': [[2, 6, 'STOCK'], [31, 37, 'INDEX'], [866, 870, 'INDEX']]}\n"
     ]
    }
   ],
   "source": [
    "x = 34\n",
    "example = TRAINING_DATA['annotations'][x][1]\n",
    "print(example)"
   ]
  },
  {
   "cell_type": "code",
   "execution_count": 248,
   "metadata": {},
   "outputs": [
    {
     "data": {
      "text/plain": [
       "'\\n\\n'"
      ]
     },
     "execution_count": 248,
     "metadata": {},
     "output_type": "execute_result"
    }
   ],
   "source": [
    "'''\n",
    "x = 34\n",
    "2, 6, 'STOCK'\n",
    "31, 37, 'INDEX'\n",
    "866, 870, 'INDEX'\n",
    "\n",
    "'''"
   ]
  },
  {
   "cell_type": "code",
   "execution_count": 312,
   "metadata": {},
   "outputs": [
    {
     "data": {
      "text/plain": [
       "\"$ GILD shares are cheapGilead (NASDAQ: [GILD] (ended [2014] (with an impressive increase in its top and bottom lines. Product sales doubled, compared to the prior fiscal year, and non-GAAP earnings per share more than quadrupled. Gilead's fiscal 2015 is carrying the same momentum. The second-quarter earnings report revealed that product sales have increased significantly from the prior-year period, aided by the performance of Gilead's Hepatitis C drug Harvoni. The successful quarter led Gilead to raise its guidance for the fiscal year of 2015.Any investor that is aware of Gilead knows that one of its most successful products is the company's hepatitis C treatment Harvoni; hepatitis C medicines from Gilead account for ~60% of its revenue. Though we think the convenience and efficacy of Harvoni is simply hard-to-beat as it relates to a hep-C cure, AbbVie (NYSE: [ABBV] (offers a substitute for Gilead's treatment in its Viekira Pak. Merck (NYSE: [MRK] (and others are also active in the hep-C arena. Still, in any case, the global hep-C market is large enough for a number of players, in our view, suggesting that even under a scenario of share loss, Gilead will still be in good shape.To the excitement of income investors, Gilead [announced] (its first-ever dividend as its fiscal 2014 ended. A $0.43 per share dividend and a $15 billion share buyback program were initiated. Growth potential in the capital returned to shareholders remains substantial, particularly in light of the company's cash-generating prowess. From our perspective, Gilead's claim on the global hep-C market is rock solid, contributes to its [Economic Castle] (rating of 'Very Attractive ,' and we think investors are getting its pipeline for free within the context of our valuation model. Let's take a closer look at Gilead's other investment considerations and derive a fair value estimate for shares.**Investment Highlights**ï¿½ Gilead's primary areas of focus include HIV/AIDS, hepatitis B and C, serious cardiovascular/metabolic and respiratory conditions. The firm's drug Sovaldi and its successor Harvoni, a once-daily oral treatment of HCV infection, are its primary product drivers and comprise a large portion of antiviral product sales. Complera/Eviplera and Stribild--single tablet regimens for HIV--are also experiencing nice sales expansion. Sovaldi, Complera/Eviplera and Stribild were launched in 2012/2013 , 2012/2013 and 2011, respectively, and Harvoni was approved in October 2014. Gilead's pipeline also offers tremendous opportunities.ï¿½ According to the World Health Organization , 130-150 million people globally have chronic hepatitis C infection, and a significant number of those who are chronically infected will develop liver cirrhosis or liver cancer, with as many as 350,000-500,000 people dying each year from hepatitis C-related liver diseases. The HCV market is vastly underserved, providing long-term opportunities for Gilead.ï¿½ Harvoni's efficacy, by combining the NS5A inhibitor ledipasvir with the nucleotide analog polymerase inhibitor sofosbuvir (Solvadi), is so impressive that it can achieve HCV cure rates in the range of 94% -99% . This efficacy will be difficult for any competing therapy to better.ï¿½ Though we think Gilead is operating in a rational oligopoly in the HCV market, revenue erosion is a key risk. JNJ's (NYSE: JNJ) Janssen's Olysio and AbbVie's Viekira Pak are two rivals in the HCV market, and Express Scripts (NASDAQ: ESRX) continues to pressure drug providers on price. This can't be ignored.ï¿½ Gilead has started paying a dividend, but that doesn't mean the company won't be active with respect to acquisitions in the future, and it certainly doesn't mean that it doesn't have future opportunities for investment within its pipeline. For a company that owns the cure for hep-C, we can only imagine what's next. We're excited just thinking about it.**Economic Profit Analysis**In our opinion, the best measure of a firm's ability to create value for shareholders is expressed by comparing its return on invested capital with its weighted average cost of capital. The gap or difference between ROIC and WACC is called the firm's economic profit spread. Gilead Sciences' 3-year historical return on invested capital (without goodwill) is 55.4%, which is above the estimate of its cost of capital of 10.4% . As such, we assign the firm a ValueCreationï¿½ rating of EXCELLENT.**Cash Flow Analysis**Free cash flow generation has been outstanding at Gilead Sciences in recent years. Firms that generate a free cash flow margin (free cash flow divided by total revenue) above 5% are usually considered cash cows. Gilead Sciences' free cash flow margin has averaged about 34.7% during the past 3 years. As such, we think the firm's cash flow generation is relatively STRONG.The free cash flow measure is derived by taking cash flow from operations less capital expenditures and differs from enterprise free cash flow (FCFF), which we use in deriving our fair value estimate for the company. At Gilead Sciences, cash flow from operations increased about 301% from levels registered two years ago, while capital expenditures expanded about 40% over the same time period.**Valuation Analysis**This is the culmination of our analysis. Below we outline our valuation assumptions and derive a fair value estimate for shares.Our discounted cash flow model indicates that Gilead Sciences' shares are worth between $129- $193 each. Shares are currently trading at ~ $102, well below the lower bound of our fair value range. This indicates that we feel there is significant upside potential associated with shares at this time.The margin of safety around our fair value estimate is driven by the firm's LOW ValueRiskï¿½ rating, which is derived from the historical volatility of key valuation drivers. The estimated fair value of $161 per share represents a price-to-earnings (P/E) ratio of about 21.9 times last year's earnings and an implied EV/EBITDA multiple of about 16.4 times last year's EBITDA.Our model reflects a compound annual revenue growth rate of 7.9% during the next five years, a pace that is lower than the firm's 3-year historical compound annual growth rate of 43.7% . Our model reflects a 5-year projected average operating margin of 73%, which is above Gilead Sciences' trailing 3-year average.Beyond year 5, we assume free cash flow will grow at an annual rate of 2.7% for the next 15 years and 3% in perpetuity. For Gilead Sciences, we use a 10.4% weighted average cost of capital to discount future free cash flows.**Margin of Safety Analysis**Our discounted cash flow process values each firm on the basis of the present value of all future free cash flows. Although we estimate the firm's fair value at about $161 per share, every company has a range of probable fair values that's created by the uncertainty of key valuation drivers (like future revenue or earnings, for example). After all, if the future was known with certainty, we wouldn't see much volatility in the markets as stocks would trade precisely at their known fair values.Our ValueRiskï¿½ rating sets the margin of safety or the fair value range we assign to each stock. We think the firm is attractive below $129 per share, but quite expensive above $193 per share. **Wrapping Things Up**We think Gilead Sciences is a fantastic company. It generates free cash flow at a tremendous rate, and has one of the most effective drugs with great potential in the huge HCV market. Rival drugs may pressure prices, and therefore impede the pace of long-term revenue expansion, however.Nevertheless, we think there is significant long-term opportunities present for Gilead, and on the basis of its significant undervaluation, we think investors are getting the company's pipeline and potential within its acquisition program for free. Even assuming modest long-term top-line growth, Gilead Sciences is undervalued. Though shares have had a mighty run in recent years, the company's technical indicators aren't terrible, and shares are trading at relatively low earnings multiples compared to its peers.Gilead Sciences currently registers a 9 on the [Valuentum Buying Index.] (article or report and any links within are for information purposes only and should not be considered a solicitation to buy or sell any security. Valuentum is not responsible for any errors or omissions or for results obtained from the use of this article and accepts no liability for how readers may choose to utilize the content. Assumptions, opinions, and estimates are based on our judgment as of the date of the article and are subject to change without notice. For more information about Valuentum and the products and services it offers, please contact us at info @ valuentum.com.*\""
      ]
     },
     "execution_count": 312,
     "metadata": {},
     "output_type": "execute_result"
    }
   ],
   "source": [
    "TRAINING_DATA['annotations'][x][0]"
   ]
  },
  {
   "cell_type": "code",
   "execution_count": 322,
   "metadata": {},
   "outputs": [
    {
     "data": {
      "text/plain": [
       "': [A'"
      ]
     },
     "execution_count": 322,
     "metadata": {},
     "output_type": "execute_result"
    }
   ],
   "source": [
    "TRAINING_DATA['annotations'][x][0][870 : 874]"
   ]
  },
  {
   "cell_type": "code",
   "execution_count": 323,
   "metadata": {},
   "outputs": [],
   "source": [
    "TRAINING_DATA['annotations'][x][1] = {'entities': [[2, 6, 'STOCK'], [31, 37, 'INDEX'], [866, 870, 'INDEX']]}"
   ]
  },
  {
   "cell_type": "code",
   "execution_count": 324,
   "metadata": {},
   "outputs": [
    {
     "data": {
      "text/plain": [
       "[\"$ GILD shares are cheapGilead (NASDAQ: [GILD] (ended [2014] (with an impressive increase in its top and bottom lines. Product sales doubled, compared to the prior fiscal year, and non-GAAP earnings per share more than quadrupled. Gilead's fiscal 2015 is carrying the same momentum. The second-quarter earnings report revealed that product sales have increased significantly from the prior-year period, aided by the performance of Gilead's Hepatitis C drug Harvoni. The successful quarter led Gilead to raise its guidance for the fiscal year of 2015.Any investor that is aware of Gilead knows that one of its most successful products is the company's hepatitis C treatment Harvoni; hepatitis C medicines from Gilead account for ~60% of its revenue. Though we think the convenience and efficacy of Harvoni is simply hard-to-beat as it relates to a hep-C cure, AbbVie (NYSE: [ABBV] (offers a substitute for Gilead's treatment in its Viekira Pak. Merck (NYSE: [MRK] (and others are also active in the hep-C arena. Still, in any case, the global hep-C market is large enough for a number of players, in our view, suggesting that even under a scenario of share loss, Gilead will still be in good shape.To the excitement of income investors, Gilead [announced] (its first-ever dividend as its fiscal 2014 ended. A $0.43 per share dividend and a $15 billion share buyback program were initiated. Growth potential in the capital returned to shareholders remains substantial, particularly in light of the company's cash-generating prowess. From our perspective, Gilead's claim on the global hep-C market is rock solid, contributes to its [Economic Castle] (rating of 'Very Attractive ,' and we think investors are getting its pipeline for free within the context of our valuation model. Let's take a closer look at Gilead's other investment considerations and derive a fair value estimate for shares.**Investment Highlights**ï¿½ Gilead's primary areas of focus include HIV/AIDS, hepatitis B and C, serious cardiovascular/metabolic and respiratory conditions. The firm's drug Sovaldi and its successor Harvoni, a once-daily oral treatment of HCV infection, are its primary product drivers and comprise a large portion of antiviral product sales. Complera/Eviplera and Stribild--single tablet regimens for HIV--are also experiencing nice sales expansion. Sovaldi, Complera/Eviplera and Stribild were launched in 2012/2013 , 2012/2013 and 2011, respectively, and Harvoni was approved in October 2014. Gilead's pipeline also offers tremendous opportunities.ï¿½ According to the World Health Organization , 130-150 million people globally have chronic hepatitis C infection, and a significant number of those who are chronically infected will develop liver cirrhosis or liver cancer, with as many as 350,000-500,000 people dying each year from hepatitis C-related liver diseases. The HCV market is vastly underserved, providing long-term opportunities for Gilead.ï¿½ Harvoni's efficacy, by combining the NS5A inhibitor ledipasvir with the nucleotide analog polymerase inhibitor sofosbuvir (Solvadi), is so impressive that it can achieve HCV cure rates in the range of 94% -99% . This efficacy will be difficult for any competing therapy to better.ï¿½ Though we think Gilead is operating in a rational oligopoly in the HCV market, revenue erosion is a key risk. JNJ's (NYSE: JNJ) Janssen's Olysio and AbbVie's Viekira Pak are two rivals in the HCV market, and Express Scripts (NASDAQ: ESRX) continues to pressure drug providers on price. This can't be ignored.ï¿½ Gilead has started paying a dividend, but that doesn't mean the company won't be active with respect to acquisitions in the future, and it certainly doesn't mean that it doesn't have future opportunities for investment within its pipeline. For a company that owns the cure for hep-C, we can only imagine what's next. We're excited just thinking about it.**Economic Profit Analysis**In our opinion, the best measure of a firm's ability to create value for shareholders is expressed by comparing its return on invested capital with its weighted average cost of capital. The gap or difference between ROIC and WACC is called the firm's economic profit spread. Gilead Sciences' 3-year historical return on invested capital (without goodwill) is 55.4%, which is above the estimate of its cost of capital of 10.4% . As such, we assign the firm a ValueCreationï¿½ rating of EXCELLENT.**Cash Flow Analysis**Free cash flow generation has been outstanding at Gilead Sciences in recent years. Firms that generate a free cash flow margin (free cash flow divided by total revenue) above 5% are usually considered cash cows. Gilead Sciences' free cash flow margin has averaged about 34.7% during the past 3 years. As such, we think the firm's cash flow generation is relatively STRONG.The free cash flow measure is derived by taking cash flow from operations less capital expenditures and differs from enterprise free cash flow (FCFF), which we use in deriving our fair value estimate for the company. At Gilead Sciences, cash flow from operations increased about 301% from levels registered two years ago, while capital expenditures expanded about 40% over the same time period.**Valuation Analysis**This is the culmination of our analysis. Below we outline our valuation assumptions and derive a fair value estimate for shares.Our discounted cash flow model indicates that Gilead Sciences' shares are worth between $129- $193 each. Shares are currently trading at ~ $102, well below the lower bound of our fair value range. This indicates that we feel there is significant upside potential associated with shares at this time.The margin of safety around our fair value estimate is driven by the firm's LOW ValueRiskï¿½ rating, which is derived from the historical volatility of key valuation drivers. The estimated fair value of $161 per share represents a price-to-earnings (P/E) ratio of about 21.9 times last year's earnings and an implied EV/EBITDA multiple of about 16.4 times last year's EBITDA.Our model reflects a compound annual revenue growth rate of 7.9% during the next five years, a pace that is lower than the firm's 3-year historical compound annual growth rate of 43.7% . Our model reflects a 5-year projected average operating margin of 73%, which is above Gilead Sciences' trailing 3-year average.Beyond year 5, we assume free cash flow will grow at an annual rate of 2.7% for the next 15 years and 3% in perpetuity. For Gilead Sciences, we use a 10.4% weighted average cost of capital to discount future free cash flows.**Margin of Safety Analysis**Our discounted cash flow process values each firm on the basis of the present value of all future free cash flows. Although we estimate the firm's fair value at about $161 per share, every company has a range of probable fair values that's created by the uncertainty of key valuation drivers (like future revenue or earnings, for example). After all, if the future was known with certainty, we wouldn't see much volatility in the markets as stocks would trade precisely at their known fair values.Our ValueRiskï¿½ rating sets the margin of safety or the fair value range we assign to each stock. We think the firm is attractive below $129 per share, but quite expensive above $193 per share. **Wrapping Things Up**We think Gilead Sciences is a fantastic company. It generates free cash flow at a tremendous rate, and has one of the most effective drugs with great potential in the huge HCV market. Rival drugs may pressure prices, and therefore impede the pace of long-term revenue expansion, however.Nevertheless, we think there is significant long-term opportunities present for Gilead, and on the basis of its significant undervaluation, we think investors are getting the company's pipeline and potential within its acquisition program for free. Even assuming modest long-term top-line growth, Gilead Sciences is undervalued. Though shares have had a mighty run in recent years, the company's technical indicators aren't terrible, and shares are trading at relatively low earnings multiples compared to its peers.Gilead Sciences currently registers a 9 on the [Valuentum Buying Index.] (article or report and any links within are for information purposes only and should not be considered a solicitation to buy or sell any security. Valuentum is not responsible for any errors or omissions or for results obtained from the use of this article and accepts no liability for how readers may choose to utilize the content. Assumptions, opinions, and estimates are based on our judgment as of the date of the article and are subject to change without notice. For more information about Valuentum and the products and services it offers, please contact us at info @ valuentum.com.*\",\n",
       " {'entities': [[2, 6, 'STOCK'], [31, 37, 'INDEX'], [866, 870, 'INDEX']]}]"
      ]
     },
     "execution_count": 324,
     "metadata": {},
     "output_type": "execute_result"
    }
   ],
   "source": [
    "TRAINING_DATA['annotations'][x]"
   ]
  },
  {
   "cell_type": "markdown",
   "metadata": {},
   "source": [
    "## Setting up the model"
   ]
  },
  {
   "cell_type": "code",
   "execution_count": 20,
   "metadata": {},
   "outputs": [
    {
     "name": "stdout",
     "output_type": "stream",
     "text": [
      "Collecting en-core-web-sm==3.1.0\n",
      "  Downloading https://github.com/explosion/spacy-models/releases/download/en_core_web_sm-3.1.0/en_core_web_sm-3.1.0-py3-none-any.whl (13.6 MB)\n",
      "Requirement already satisfied: spacy<3.2.0,>=3.1.0 in c:\\users\\sivas\\anaconda3\\lib\\site-packages (from en-core-web-sm==3.1.0) (3.1.3)\n",
      "Requirement already satisfied: tqdm<5.0.0,>=4.38.0 in c:\\users\\sivas\\anaconda3\\lib\\site-packages (from spacy<3.2.0,>=3.1.0->en-core-web-sm==3.1.0) (4.50.2)\n",
      "Requirement already satisfied: numpy>=1.15.0 in c:\\users\\sivas\\anaconda3\\lib\\site-packages (from spacy<3.2.0,>=3.1.0->en-core-web-sm==3.1.0) (1.19.2)\n",
      "Requirement already satisfied: setuptools in c:\\users\\sivas\\anaconda3\\lib\\site-packages (from spacy<3.2.0,>=3.1.0->en-core-web-sm==3.1.0) (50.3.1.post20201107)\n",
      "Requirement already satisfied: pathy>=0.3.5 in c:\\users\\sivas\\anaconda3\\lib\\site-packages (from spacy<3.2.0,>=3.1.0->en-core-web-sm==3.1.0) (0.6.1)\n",
      "Requirement already satisfied: srsly<3.0.0,>=2.4.1 in c:\\users\\sivas\\anaconda3\\lib\\site-packages (from spacy<3.2.0,>=3.1.0->en-core-web-sm==3.1.0) (2.4.2)\n",
      "Requirement already satisfied: blis<0.8.0,>=0.4.0 in c:\\users\\sivas\\anaconda3\\lib\\site-packages (from spacy<3.2.0,>=3.1.0->en-core-web-sm==3.1.0) (0.7.5)\n",
      "Requirement already satisfied: wasabi<1.1.0,>=0.8.1 in c:\\users\\sivas\\anaconda3\\lib\\site-packages (from spacy<3.2.0,>=3.1.0->en-core-web-sm==3.1.0) (0.8.2)\n",
      "Requirement already satisfied: murmurhash<1.1.0,>=0.28.0 in c:\\users\\sivas\\anaconda3\\lib\\site-packages (from spacy<3.2.0,>=3.1.0->en-core-web-sm==3.1.0) (1.0.6)\n",
      "Requirement already satisfied: catalogue<2.1.0,>=2.0.6 in c:\\users\\sivas\\anaconda3\\lib\\site-packages (from spacy<3.2.0,>=3.1.0->en-core-web-sm==3.1.0) (2.0.6)\n",
      "Requirement already satisfied: typer<0.5.0,>=0.3.0 in c:\\users\\sivas\\anaconda3\\lib\\site-packages (from spacy<3.2.0,>=3.1.0->en-core-web-sm==3.1.0) (0.4.0)\n",
      "Requirement already satisfied: pydantic!=1.8,!=1.8.1,<1.9.0,>=1.7.4 in c:\\users\\sivas\\anaconda3\\lib\\site-packages (from spacy<3.2.0,>=3.1.0->en-core-web-sm==3.1.0) (1.8.2)\n",
      "Requirement already satisfied: preshed<3.1.0,>=3.0.2 in c:\\users\\sivas\\anaconda3\\lib\\site-packages (from spacy<3.2.0,>=3.1.0->en-core-web-sm==3.1.0) (3.0.6)\n",
      "Requirement already satisfied: spacy-legacy<3.1.0,>=3.0.8 in c:\\users\\sivas\\anaconda3\\lib\\site-packages (from spacy<3.2.0,>=3.1.0->en-core-web-sm==3.1.0) (3.0.8)\n",
      "Requirement already satisfied: jinja2 in c:\\users\\sivas\\anaconda3\\lib\\site-packages (from spacy<3.2.0,>=3.1.0->en-core-web-sm==3.1.0) (2.11.2)\n",
      "Requirement already satisfied: packaging>=20.0 in c:\\users\\sivas\\anaconda3\\lib\\site-packages (from spacy<3.2.0,>=3.1.0->en-core-web-sm==3.1.0) (20.4)\n",
      "Requirement already satisfied: cymem<2.1.0,>=2.0.2 in c:\\users\\sivas\\anaconda3\\lib\\site-packages (from spacy<3.2.0,>=3.1.0->en-core-web-sm==3.1.0) (2.0.6)\n",
      "Requirement already satisfied: thinc<8.1.0,>=8.0.9 in c:\\users\\sivas\\anaconda3\\lib\\site-packages (from spacy<3.2.0,>=3.1.0->en-core-web-sm==3.1.0) (8.0.12)\n",
      "Requirement already satisfied: requests<3.0.0,>=2.13.0 in c:\\users\\sivas\\anaconda3\\lib\\site-packages (from spacy<3.2.0,>=3.1.0->en-core-web-sm==3.1.0) (2.24.0)\n",
      "Requirement already satisfied: smart-open<6.0.0,>=5.0.0 in c:\\users\\sivas\\anaconda3\\lib\\site-packages (from pathy>=0.3.5->spacy<3.2.0,>=3.1.0->en-core-web-sm==3.1.0) (5.2.1)\n",
      "Requirement already satisfied: click<9.0.0,>=7.1.1 in c:\\users\\sivas\\anaconda3\\lib\\site-packages (from typer<0.5.0,>=0.3.0->spacy<3.2.0,>=3.1.0->en-core-web-sm==3.1.0) (7.1.2)\n",
      "Requirement already satisfied: typing-extensions>=3.7.4.3 in c:\\users\\sivas\\anaconda3\\lib\\site-packages (from pydantic!=1.8,!=1.8.1,<1.9.0,>=1.7.4->spacy<3.2.0,>=3.1.0->en-core-web-sm==3.1.0) (3.7.4.3)\n",
      "Requirement already satisfied: MarkupSafe>=0.23 in c:\\users\\sivas\\anaconda3\\lib\\site-packages (from jinja2->spacy<3.2.0,>=3.1.0->en-core-web-sm==3.1.0) (1.1.1)\n",
      "Requirement already satisfied: pyparsing>=2.0.2 in c:\\users\\sivas\\anaconda3\\lib\\site-packages (from packaging>=20.0->spacy<3.2.0,>=3.1.0->en-core-web-sm==3.1.0) (2.4.7)\n",
      "Requirement already satisfied: six in c:\\users\\sivas\\anaconda3\\lib\\site-packages (from packaging>=20.0->spacy<3.2.0,>=3.1.0->en-core-web-sm==3.1.0) (1.15.0)\n",
      "Requirement already satisfied: urllib3!=1.25.0,!=1.25.1,<1.26,>=1.21.1 in c:\\users\\sivas\\anaconda3\\lib\\site-packages (from requests<3.0.0,>=2.13.0->spacy<3.2.0,>=3.1.0->en-core-web-sm==3.1.0) (1.25.11)\n",
      "Requirement already satisfied: chardet<4,>=3.0.2 in c:\\users\\sivas\\anaconda3\\lib\\site-packages (from requests<3.0.0,>=2.13.0->spacy<3.2.0,>=3.1.0->en-core-web-sm==3.1.0) (3.0.4)\n",
      "Requirement already satisfied: idna<3,>=2.5 in c:\\users\\sivas\\anaconda3\\lib\\site-packages (from requests<3.0.0,>=2.13.0->spacy<3.2.0,>=3.1.0->en-core-web-sm==3.1.0) (2.10)\n",
      "Requirement already satisfied: certifi>=2017.4.17 in c:\\users\\sivas\\anaconda3\\lib\\site-packages (from requests<3.0.0,>=2.13.0->spacy<3.2.0,>=3.1.0->en-core-web-sm==3.1.0) (2020.6.20)\n",
      "Installing collected packages: en-core-web-sm\n",
      "Successfully installed en-core-web-sm-3.1.0\n",
      "[+] Download and installation successful\n",
      "You can now load the package via spacy.load('en_core_web_sm')\n"
     ]
    }
   ],
   "source": [
    "!python -m spacy download en_core_web_sm"
   ]
  },
  {
   "cell_type": "code",
   "execution_count": 21,
   "metadata": {},
   "outputs": [],
   "source": [
    "model = spacy.load('en_core_web_sm')"
   ]
  },
  {
   "cell_type": "code",
   "execution_count": 22,
   "metadata": {},
   "outputs": [
    {
     "data": {
      "text/plain": [
       "['tok2vec', 'tagger', 'parser', 'attribute_ruler', 'lemmatizer', 'ner']"
      ]
     },
     "execution_count": 22,
     "metadata": {},
     "output_type": "execute_result"
    }
   ],
   "source": [
    "# Checking the pipes available in the model \n",
    "model.pipe_names"
   ]
  },
  {
   "cell_type": "code",
   "execution_count": 23,
   "metadata": {},
   "outputs": [],
   "source": [
    "n_iter = 100\n",
    "ner = model.get_pipe('ner')"
   ]
  },
  {
   "cell_type": "code",
   "execution_count": 26,
   "metadata": {},
   "outputs": [],
   "source": [
    "# Adding in the custom ner labels to the model\n",
    "for label in TRAINING_DATA['classes']:\n",
    "    ner.add_label('label')"
   ]
  },
  {
   "cell_type": "markdown",
   "metadata": {},
   "source": [
    "## Converting the training data to a .spacy file for training the model"
   ]
  },
  {
   "cell_type": "code",
   "execution_count": 341,
   "metadata": {},
   "outputs": [
    {
     "name": "stderr",
     "output_type": "stream",
     "text": [
      " 14%|█▍        | 5/35 [00:00<00:01, 29.87it/s]"
     ]
    },
    {
     "name": "stdout",
     "output_type": "stream",
     "text": [
      "Skipping entity\n"
     ]
    },
    {
     "name": "stderr",
     "output_type": "stream",
     "text": [
      " 49%|████▊     | 17/35 [00:00<00:00, 28.59it/s]"
     ]
    },
    {
     "name": "stdout",
     "output_type": "stream",
     "text": [
      "Skipping entity\n",
      "Skipping entity\n"
     ]
    },
    {
     "name": "stderr",
     "output_type": "stream",
     "text": [
      " 97%|█████████▋| 34/35 [00:01<00:00, 19.77it/s]"
     ]
    },
    {
     "name": "stdout",
     "output_type": "stream",
     "text": [
      "Skipping entity\n",
      "Skipping entity\n"
     ]
    },
    {
     "name": "stderr",
     "output_type": "stream",
     "text": [
      "100%|██████████| 35/35 [00:01<00:00, 23.24it/s]\n"
     ]
    }
   ],
   "source": [
    "db = DocBin() # Creating a DocBin object\n",
    "\n",
    "# Iterate through all the annotations\n",
    "for text, annotation in tqdm(TRAINING_DATA['annotations']):\n",
    "    doc = model.make_doc(text)\n",
    "    ents = []\n",
    "    \n",
    "    ner_list = annotation['entities']\n",
    "    if len(ner_list) > 0:\n",
    "        for start, end, label in ner_list:\n",
    "            span = doc.char_span(start, end, label=label, alignment_mode='contract')\n",
    "            if span is None:\n",
    "                print('Skipping entity')\n",
    "            else:\n",
    "                ents.append(span)\n",
    "    doc.ents = ents\n",
    "    db.add(doc)\n",
    "    \n",
    "    db.to_disk('new_training_data.spacy')"
   ]
  },
  {
   "cell_type": "markdown",
   "metadata": {},
   "source": [
    "## Creating the config file for model training"
   ]
  },
  {
   "cell_type": "code",
   "execution_count": 342,
   "metadata": {},
   "outputs": [],
   "source": [
    "# .cfg file is filled in the command line"
   ]
  },
  {
   "cell_type": "markdown",
   "metadata": {},
   "source": [
    "## Creating a TESTING_DATA file"
   ]
  },
  {
   "cell_type": "code",
   "execution_count": 344,
   "metadata": {},
   "outputs": [
    {
     "data": {
      "text/plain": [
       "100    Daily advice thread. All questions about your ...\n",
       "101    GS lowers oil expectations, scenario could see...\n",
       "102    ELI5: Why REIT seems to be a cornerstone of a ...\n",
       "103    Silver Lake Partners buys 20% of AMD  RIP SPAC...\n",
       "104    GPRO, please stop!GoPro hits record low since ...\n",
       "Name: text, dtype: object"
      ]
     },
     "execution_count": 344,
     "metadata": {},
     "output_type": "execute_result"
    }
   ],
   "source": [
    "df = pd.read_csv('reddit_data_19102021.csv')\n",
    "reddit_text_data = df['text'][100:200]\n",
    "reddit_text_data.head()"
   ]
  },
  {
   "cell_type": "code",
   "execution_count": 345,
   "metadata": {},
   "outputs": [],
   "source": [
    "with open('test_data.txt', 'w',encoding=\"utf-8\") as outfile:\n",
    "    reddit_text_data.to_string(outfile)"
   ]
  },
  {
   "cell_type": "code",
   "execution_count": 348,
   "metadata": {},
   "outputs": [
    {
     "data": {
      "text/plain": [
       "'100    Daily advice thread. All questions about your ...\\n101    GS lowers oil expectations, scenario could see...\\n102    ELI5: Why REIT seems to be a cornerstone of a ...\\n103    Silver Lake Partners buys 20% of AMD  RIP SPAC...\\n104    GPRO, please stop!GoPro hits record low since ...\\n105    Can you feel the YOLO? Can you FEEL it!?Well i...\\n106    $MTN - Anyone considering Vail Resorts?They\\'re...\\n107    AVRN at it again, Pump and Dump scheme using W...\\n108    Advice on Inverse ETFs and Canadian stocks to ...\\n109    Wynn Resorts (WYNN)In the midst of the bad new...\\n110    AMD up 8% in the last 15 minutes  Edit: looks ...\\n111    I told you Mother Fuckers to get in AMD calls ...\\n112    What indicators do you use?Everyone knows fund...\\n113    I think i found the biggest joke of a IPO EVER...\\n114    suggestions for ira investments at schwabI\\'m l...\\n115    [AQXP] Baker Brothers now own 36% of the compa...\\n116    All ya\\'ll bears \\'bout to get fuckedFace it, Fe...\\n117    Help on Researching a Company\\'s DebtI was taki...\\n118    Vote for what happens thursdayVote for 1 of 4 ...\\n119    ($FBIO) Fortress Biotech: Dealing with the Dev...\\n120    Instead of researching stocks I decided to res...\\n121    A historical overview of stellar active invest...\\n122    Investors Lose in Todayâ€™s Markets, Says Former...\\n123    Feedback on new risk management tool for savvy...\\n124    Something BIG is comingYou\\'re not fooling anyb...\\n125    You guys hate technicals, but the S&P is still...\\n126    What happened to the guy who said that ARLP wa...\\n127    401K Rollover; Invest all at once or slow roll...\\n128    Looking for mid-sized oil producers that are v...\\n129    It\\'s moronic Monday, your chance to ask any of...\\n130    ELI25: Short SellingShort selling is when stoc...\\n131    Automakers agree to make automatic braking sta...\\n132    5 stocks that keep raising dividendsFound some...\\n133    GPRO: finally time to buy?I know that GPRO is ...\\n134    TGI: To get to our Yachts, we need helicopters...\\n135    Good sites for upcoming pharma results?Anyone ...\\n136    No more bears here?Seriously, what is your sen...\\n137    AXPW Reminder[My post 6 days ago](  20% end of...\\n138    Are the mods going to ban these people?In the ...\\n139    As much as I hate it, I think its time to get ...\\n140    $50,000 to invest - Should I?Currently only ha...\\n141    Why Interest Rates MatterWith the amount of po...\\n142    Rate My PortfolioIndividual (23.5K):  25% AMZN...\\n143    [META] The massive dick on the banner is upsid...\\n144    with the high volumes of noobs around, this ne...\\n145    August 2015 Stock Market Contest Results: The ...\\n146    The YOLO gods have been angered.I\\'ve taken a c...\\n147    If your savings are in a 401(k) account, they ...\\n148    How can VNQI be up .24% for the day, yet VGXRX...\\n149    TPIV just got a Department of Defense grant th...\\n150    So this is what Yolo feels likeLong day ahead,...\\n151    Okay.......Thanks for the stickied post and al...\\n152    BGMD going to OTCFuck.FUCK*FUCK*I sold my TD p...\\n153    BDSI Upcoming FDA Approval - The Next Biotech ...\\n154    Howard Lindzon, founder of Stocktwits, is long...\\n155    Two amazing stock apps: WikiWealth & Hotstocke...\\n156    For those of you still in AXPWOnly 3 opportuni...\\n157    Daily advice thread. All questions about your ...\\n158    To the traders who don\\'t hold shit overnight.I...\\n159    Amazon Is Profitable, Facebook Is NotFound a g...\\n160    Ten years to twenty years from now. Retirement...\\n161    NO RATE HIKEYou heard it here first, folks. FR...\\n162          1,300% gains bro  How bout dem $ADEP calls?\\n163    ATVI reaching all time highs w/ news of record...\\n164    \"Be greedy when others are fearful, be fearful...\\n165    $AXPW - pump and dumpThese are the facts   1. ...\\n166    Bitcoin is officially a commodity. YO-fucking-...\\n167    The real spirit of YOLOOk gentlemen, let\\'s tak...\\n168    BGMD OTC in Robinhood update as promisedWith o...\\n169    Gigantic Beer Empire: AB-Inbev & SABMiller tie...\\n170    Whatâ€™s Your Investing Horror Story?Some story ...\\n171    IRA Investing $400/Month or $100 per WeekFor m...\\n172    Name a penny stock and I will do a video analy...\\n173    Down almost 5K on OREX [Orexigen] Stock - Here...\\n174    Easiest way to become a Millionaire in under a...\\n175    My YOLO position went straight to zero today, AMA\\n176    [Newbie Question] How do I pay my taxes on my ...\\n177    FUCK TVIX - the market says \"Fuck Yellen\"I sol...\\n178         Coca-Cola: IRS says $3.3B in back taxes owed\\n179    Volkswagen facing up to 18 billion in finesJus...\\n180    FHCO 100% control of market, net revenues, Ins...\\n181    4 Bill Bernstein Kindle edition books free tod...\\n182    AMDA DD â€” NASDAQ (non-compliant) â€” .436 (3mo p...\\n183    AMDA DD â€” NASDAQ (non-compliant) â€” .436 (3mo p...\\n184    [Silver lining] Wallstreetbets Brain teaserLet...\\n185    EXAS (Non-technical DD)â€” NASDAQ â€” 19.26 (Sept/...\\n186    Is OPEC Really Beating the U.S. Shale Gas Comp...\\n187    eking advice on optimal execution of Airbnb-af...\\n188    Good idea to invest in Tesla Lithium suppliers...\\n189    Volkswagen shares are getting CRUSHED.US regul...\\n190    Maybe I\\'m an idiot...well I\\'m pretty sure I\\'m ...\\n191    It\\'s moronic Monday, your chance to ask any of...\\n192    Netflix CEO: All TV will be Internet in 10-20 ...\\n193    YOLO put more than half of my account into $SP...\\n194    Short NFLX. See you at $70Lets be real. NFLX i...\\n195    Tesla sets Model X launch event for Sept. 29Te...\\n196    Is AMD ever going back up?I probably made a ba...\\n197    Vanguard Unveils Two International Dividend In...\\n198    What is the difference between all the stock s...\\n199    Thoughts on NFLX?Mostly everyone agrees it\\'s o...'"
      ]
     },
     "execution_count": 348,
     "metadata": {},
     "output_type": "execute_result"
    }
   ],
   "source": [
    "test = open('test_data.txt', 'r')\n",
    "test_text = test.read()\n",
    "test_text"
   ]
  },
  {
   "cell_type": "markdown",
   "metadata": {},
   "source": [
    "## Creating .spacy file for test data"
   ]
  },
  {
   "cell_type": "code",
   "execution_count": 350,
   "metadata": {},
   "outputs": [
    {
     "name": "stderr",
     "output_type": "stream",
     "text": [
      "100%|██████████| 5715/5715 [07:47<00:00, 12.22it/s]\n"
     ]
    }
   ],
   "source": [
    "db2 = DocBin() # Creating a docbin object\n",
    "\n",
    "# Iterate through all the annotations\n",
    "for text in tqdm(test_text):\n",
    "    doc = model.make_doc(text)\n",
    "    ents = []\n",
    "    \n",
    "    doc.ents = ents\n",
    "    db.add(doc)\n",
    "    \n",
    "    db.to_disk('testing_data.spacy')"
   ]
  },
  {
   "cell_type": "markdown",
   "metadata": {},
   "source": [
    "## Training the model on custom labels"
   ]
  },
  {
   "cell_type": "code",
   "execution_count": 338,
   "metadata": {},
   "outputs": [
    {
     "name": "stdout",
     "output_type": "stream",
     "text": [
      "{}\n",
      "{}\n",
      "{}\n",
      "{}\n",
      "{}\n",
      "{}\n",
      "{}\n",
      "{}\n",
      "{}\n",
      "{}\n",
      "{}\n",
      "{}\n",
      "{}\n",
      "{}\n",
      "{}\n",
      "{}\n",
      "{}\n",
      "{}\n",
      "{}\n",
      "{}\n",
      "{}\n",
      "{}\n",
      "{}\n",
      "{}\n",
      "{}\n",
      "{}\n",
      "{}\n",
      "{}\n",
      "{}\n",
      "{}\n",
      "{}\n",
      "{}\n",
      "{}\n",
      "{}\n",
      "{}\n",
      "{}\n",
      "{}\n",
      "{}\n",
      "{}\n",
      "{}\n",
      "{}\n",
      "{}\n",
      "{}\n",
      "{}\n",
      "{}\n",
      "{}\n",
      "{}\n",
      "{}\n",
      "{}\n",
      "{}\n",
      "{}\n",
      "{}\n",
      "{}\n",
      "{}\n",
      "{}\n",
      "{}\n",
      "{}\n",
      "{}\n",
      "{}\n",
      "{}\n",
      "{}\n",
      "{}\n",
      "{}\n",
      "{}\n",
      "{}\n",
      "{}\n",
      "{}\n",
      "{}\n",
      "{}\n",
      "{}\n",
      "{}\n",
      "{}\n",
      "{}\n",
      "{}\n",
      "{}\n",
      "{}\n",
      "{}\n",
      "{}\n",
      "{}\n",
      "{}\n",
      "{}\n",
      "{}\n",
      "{}\n",
      "{}\n",
      "{}\n",
      "{}\n",
      "{}\n",
      "{}\n",
      "{}\n",
      "{}\n",
      "{}\n",
      "{}\n",
      "{}\n",
      "{}\n",
      "{}\n",
      "{}\n",
      "{}\n",
      "{}\n",
      "{}\n",
      "{}\n"
     ]
    }
   ],
   "source": [
    "'''\n",
    "# Disable all other pipes to save on computation time\n",
    "other_pipes = [pipe for pipe in model.pipe_names if pipe != 'ner']  \n",
    "with model.disable_pipes(*other_pipes): \n",
    "    optimizer = model.create_optimizer()\n",
    "    for iteration in range(n_iter):\n",
    "        random.shuffle(TRAINING_DATA['annotations'])\n",
    "        losses = {}\n",
    "        for raw_text, annotation in TRAINING_DATA['annotations']:\n",
    "            doc = model.make_doc(raw_text)\n",
    "            example = Example.from_dict(doc, annotation)\n",
    "            model.update([example], sgd=optimizer)\n",
    "        print(losses)\n",
    "'''\n",
    "# Running this command in the command line \n",
    "python -m spacy train config.cfg --output ./output --paths.train ./train.spacy --paths.dev ./testing_data.spacy"
   ]
  },
  {
   "cell_type": "code",
   "execution_count": 351,
   "metadata": {},
   "outputs": [],
   "source": [
    "# Code to fix dll error\n",
    "os.environ[\"KMP_DUPLICATE_LIB_OK\"]=\"TRUE\""
   ]
  },
  {
   "cell_type": "code",
   "execution_count": null,
   "metadata": {},
   "outputs": [],
   "source": []
  },
  {
   "cell_type": "code",
   "execution_count": null,
   "metadata": {},
   "outputs": [],
   "source": []
  }
 ],
 "metadata": {
  "kernelspec": {
   "display_name": "Python 3",
   "language": "python",
   "name": "python3"
  },
  "language_info": {
   "codemirror_mode": {
    "name": "ipython",
    "version": 3
   },
   "file_extension": ".py",
   "mimetype": "text/x-python",
   "name": "python",
   "nbconvert_exporter": "python",
   "pygments_lexer": "ipython3",
   "version": "3.8.5"
  }
 },
 "nbformat": 4,
 "nbformat_minor": 4
}
